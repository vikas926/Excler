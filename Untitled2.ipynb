{
 "cells": [
  {
   "cell_type": "code",
   "execution_count": 2,
   "id": "e6115ac6-aafd-4e64-96f2-14760a10b6cd",
   "metadata": {},
   "outputs": [
    {
     "name": "stdout",
     "output_type": "stream",
     "text": [
      "Defaulting to user installation because normal site-packages is not writeable\n",
      "Requirement already satisfied: gTTS in c:\\users\\vikas reddy\\appdata\\roaming\\python\\python311\\site-packages (2.5.4)\n",
      "Requirement already satisfied: requests<3,>=2.27 in c:\\programdata\\anaconda3\\lib\\site-packages (from gTTS) (2.31.0)\n",
      "Requirement already satisfied: click<8.2,>=7.1 in c:\\programdata\\anaconda3\\lib\\site-packages (from gTTS) (8.1.7)\n",
      "Requirement already satisfied: colorama in c:\\programdata\\anaconda3\\lib\\site-packages (from click<8.2,>=7.1->gTTS) (0.4.6)\n",
      "Requirement already satisfied: charset-normalizer<4,>=2 in c:\\programdata\\anaconda3\\lib\\site-packages (from requests<3,>=2.27->gTTS) (2.0.4)\n",
      "Requirement already satisfied: idna<4,>=2.5 in c:\\programdata\\anaconda3\\lib\\site-packages (from requests<3,>=2.27->gTTS) (3.4)\n",
      "Requirement already satisfied: urllib3<3,>=1.21.1 in c:\\programdata\\anaconda3\\lib\\site-packages (from requests<3,>=2.27->gTTS) (2.0.7)\n",
      "Requirement already satisfied: certifi>=2017.4.17 in c:\\programdata\\anaconda3\\lib\\site-packages (from requests<3,>=2.27->gTTS) (2024.2.2)\n"
     ]
    },
    {
     "name": "stderr",
     "output_type": "stream",
     "text": [
      "DEPRECATION: Loading egg at c:\\programdata\\anaconda3\\lib\\site-packages\\vboxapi-1.0-py3.11.egg is deprecated. pip 24.3 will enforce this behaviour change. A possible replacement is to use pip for package installation.. Discussion can be found at https://github.com/pypa/pip/issues/12330\n"
     ]
    }
   ],
   "source": [
    "!pip install gTTS"
   ]
  },
  {
   "cell_type": "code",
   "execution_count": 3,
   "id": "ab90db99-c547-4bbd-9d53-7b6fc63b1378",
   "metadata": {},
   "outputs": [],
   "source": [
    "from gtts import gTTS"
   ]
  },
  {
   "cell_type": "code",
   "execution_count": 4,
   "id": "73d10355-e6d9-4333-8773-66f74c4c9796",
   "metadata": {},
   "outputs": [],
   "source": [
    "convert = gTTS(text='I like this NLP. How about dude!', lang=\"en\", slow=False)\n",
    "convert.save(\"audio.mp3\")"
   ]
  },
  {
   "cell_type": "code",
   "execution_count": 5,
   "id": "f0bbc2c0-d429-4726-812b-60056e8fb168",
   "metadata": {},
   "outputs": [
    {
     "name": "stdout",
     "output_type": "stream",
     "text": [
      "Defaulting to user installation because normal site-packages is not writeable\n",
      "Requirement already satisfied: pyttsx3 in c:\\users\\vikas reddy\\appdata\\roaming\\python\\python311\\site-packages (2.98)\n",
      "Requirement already satisfied: comtypes in c:\\users\\vikas reddy\\appdata\\roaming\\python\\python311\\site-packages (from pyttsx3) (1.4.10)\n",
      "Requirement already satisfied: pypiwin32 in c:\\users\\vikas reddy\\appdata\\roaming\\python\\python311\\site-packages (from pyttsx3) (223)\n",
      "Requirement already satisfied: pywin32 in c:\\programdata\\anaconda3\\lib\\site-packages (from pyttsx3) (305.1)\n"
     ]
    },
    {
     "name": "stderr",
     "output_type": "stream",
     "text": [
      "DEPRECATION: Loading egg at c:\\programdata\\anaconda3\\lib\\site-packages\\vboxapi-1.0-py3.11.egg is deprecated. pip 24.3 will enforce this behaviour change. A possible replacement is to use pip for package installation.. Discussion can be found at https://github.com/pypa/pip/issues/12330\n"
     ]
    }
   ],
   "source": [
    "!pip3 install pyttsx3"
   ]
  },
  {
   "cell_type": "code",
   "execution_count": 6,
   "id": "cb73eaf6-1f03-4872-9857-c10f5d14d2a5",
   "metadata": {},
   "outputs": [],
   "source": [
    "import pyttsx3\n",
    "engine = pyttsx3.init() \n",
    "engine.say(\"Hi, I am text to speach\") \n",
    "engine.runAndWait()"
   ]
  },
  {
   "cell_type": "code",
   "execution_count": 7,
   "id": "8d3c79d1-ad46-4608-b490-5fc450afb88e",
   "metadata": {},
   "outputs": [],
   "source": [
    "text=['This is introduction to NLP','It is likely to be useful, to people ',\\\n",
    "      'Machine learning is the new electrcity','There would be less hype around AI and more action going forward',\\\n",
    "      'python is the best tool!','R is good langauage',\\\n",
    "      'I want more books like this']"
   ]
  },
  {
   "cell_type": "code",
   "execution_count": 8,
   "id": "87159dc3-cd01-49d8-92e7-d46c75c516f1",
   "metadata": {},
   "outputs": [],
   "source": [
    "engine = pyttsx3.init() \n",
    "engine.say(text)\n",
    "engine.runAndWait()"
   ]
  },
  {
   "cell_type": "code",
   "execution_count": 9,
   "id": "575eaad5-27ec-43f3-97b5-253452a004bd",
   "metadata": {},
   "outputs": [
    {
     "name": "stdout",
     "output_type": "stream",
     "text": [
      "200\n",
      "1.0\n"
     ]
    }
   ],
   "source": [
    "import pyttsx3\n",
    "engine = pyttsx3.init()\n",
    "\"\"\" RATE\"\"\"\n",
    "rate = engine.getProperty('rate')\n",
    "print (rate)\n",
    "engine.setProperty('rate', 150)\n",
    "\"\"\"VOLUME\"\"\"\n",
    "volume = engine.getProperty('volume')\n",
    "print (volume)\n",
    "engine.setProperty('volume',1.0)\n",
    "\"\"\"VOICE\"\"\"\n",
    "voices = engine.getProperty('voices')\n",
    "engine.setProperty('voice', voices[1].id)\n",
    "engine.say(\"Hello World!\")\n",
    "engine.say('My current speaking rate is ' + str(rate))\n",
    "engine.say('My current speaking volume is ' + str(volume))\n",
    "engine.runAndWait()"
   ]
  },
  {
   "cell_type": "code",
   "execution_count": 10,
   "id": "08adb297-b1a1-4423-9454-eebaeb7042e9",
   "metadata": {},
   "outputs": [
    {
     "name": "stdout",
     "output_type": "stream",
     "text": [
      "Defaulting to user installation because normal site-packages is not writeable\n",
      "Collecting goslate\n",
      "  Using cached goslate-1.5.4.tar.gz (14 kB)\n",
      "  Preparing metadata (setup.py): started\n",
      "  Preparing metadata (setup.py): finished with status 'done'\n",
      "Collecting futures (from goslate)\n",
      "  Using cached futures-3.0.5.tar.gz (25 kB)\n",
      "  Preparing metadata (setup.py): started\n",
      "  Preparing metadata (setup.py): finished with status 'error'\n"
     ]
    },
    {
     "name": "stderr",
     "output_type": "stream",
     "text": [
      "DEPRECATION: Loading egg at c:\\programdata\\anaconda3\\lib\\site-packages\\vboxapi-1.0-py3.11.egg is deprecated. pip 24.3 will enforce this behaviour change. A possible replacement is to use pip for package installation.. Discussion can be found at https://github.com/pypa/pip/issues/12330\n",
      "  error: subprocess-exited-with-error\n",
      "  \n",
      "  python setup.py egg_info did not run successfully.\n",
      "  exit code: 1\n",
      "  \n",
      "  [30 lines of output]\n",
      "  Traceback (most recent call last):\n",
      "    File \"<string>\", line 2, in <module>\n",
      "    File \"<pip-setuptools-caller>\", line 14, in <module>\n",
      "    File \"C:\\ProgramData\\anaconda3\\Lib\\site-packages\\setuptools\\__init__.py\", line 266, in <module>\n",
      "      monkey.patch_all()\n",
      "    File \"C:\\ProgramData\\anaconda3\\Lib\\site-packages\\setuptools\\monkey.py\", line 98, in patch_all\n",
      "      patch_for_msvc_specialized_compiler()\n",
      "    File \"C:\\ProgramData\\anaconda3\\Lib\\site-packages\\setuptools\\monkey.py\", line 165, in patch_for_msvc_specialized_compiler\n",
      "      patch_func(*msvc14('_get_vc_env'))\n",
      "                  ^^^^^^^^^^^^^^^^^^^^^\n",
      "    File \"C:\\ProgramData\\anaconda3\\Lib\\site-packages\\setuptools\\monkey.py\", line 155, in patch_params\n",
      "      mod = import_module(mod_name)\n",
      "            ^^^^^^^^^^^^^^^^^^^^^^^\n",
      "    File \"C:\\ProgramData\\anaconda3\\Lib\\importlib\\__init__.py\", line 126, in import_module\n",
      "      return _bootstrap._gcd_import(name[level:], package, level)\n",
      "             ^^^^^^^^^^^^^^^^^^^^^^^^^^^^^^^^^^^^^^^^^^^^^^^^^^^^\n",
      "    File \"C:\\ProgramData\\anaconda3\\Lib\\site-packages\\setuptools\\_distutils\\_msvccompiler.py\", line 20, in <module>\n",
      "      import unittest.mock as mock\n",
      "    File \"C:\\ProgramData\\anaconda3\\Lib\\unittest\\mock.py\", line 26, in <module>\n",
      "      import asyncio\n",
      "    File \"C:\\ProgramData\\anaconda3\\Lib\\asyncio\\__init__.py\", line 8, in <module>\n",
      "      from .base_events import *\n",
      "    File \"C:\\ProgramData\\anaconda3\\Lib\\asyncio\\base_events.py\", line 18, in <module>\n",
      "      import concurrent.futures\n",
      "    File \"C:\\Users\\VIKAS REDDY\\AppData\\Local\\Temp\\pip-install-_4abxohk\\futures_666cd0d8e2244fcfb21db07c2434fedc\\concurrent\\futures\\__init__.py\", line 8, in <module>\n",
      "      from concurrent.futures._base import (FIRST_COMPLETED,\n",
      "    File \"C:\\Users\\VIKAS REDDY\\AppData\\Local\\Temp\\pip-install-_4abxohk\\futures_666cd0d8e2244fcfb21db07c2434fedc\\concurrent\\futures\\_base.py\", line 357\n",
      "      raise type(self._exception), self._exception, self._traceback\n",
      "                                 ^\n",
      "  SyntaxError: invalid syntax\n",
      "  [end of output]\n",
      "  \n",
      "  note: This error originates from a subprocess, and is likely not a problem with pip.\n",
      "error: metadata-generation-failed\n",
      "\n",
      "Encountered error while generating package metadata.\n",
      "\n",
      "See above for output.\n",
      "\n",
      "note: This is an issue with the package mentioned above, not pip.\n",
      "hint: See above for details.\n"
     ]
    }
   ],
   "source": [
    "!pip install goslate"
   ]
  },
  {
   "cell_type": "code",
   "execution_count": 11,
   "id": "b029ab48-0f80-4968-9695-dea6ff5f9054",
   "metadata": {},
   "outputs": [],
   "source": [
    "import goslate"
   ]
  },
  {
   "cell_type": "code",
   "execution_count": 12,
   "id": "a1fd90fc-1237-4234-a800-3b81c3efe4ef",
   "metadata": {},
   "outputs": [
    {
     "name": "stdout",
     "output_type": "stream",
     "text": [
      "<generator object Goslate.translate.<locals>.<genexpr> at 0x0000021E7E4090E0>\n"
     ]
    }
   ],
   "source": [
    "gs = goslate.Goslate()\n",
    "translatedText = gs.translate(text,'en')\n",
    "print(translatedText)"
   ]
  },
  {
   "cell_type": "code",
   "execution_count": 13,
   "id": "af32a8df-c25a-498a-abca-30619b528e8a",
   "metadata": {},
   "outputs": [
    {
     "name": "stdout",
     "output_type": "stream",
     "text": [
      "Defaulting to user installation because normal site-packages is not writeable\n",
      "Requirement already satisfied: translate in c:\\users\\vikas reddy\\appdata\\roaming\\python\\python311\\site-packages (3.6.1)\n",
      "Requirement already satisfied: click in c:\\programdata\\anaconda3\\lib\\site-packages (from translate) (8.1.7)\n",
      "Requirement already satisfied: lxml in c:\\programdata\\anaconda3\\lib\\site-packages (from translate) (4.9.3)\n",
      "Requirement already satisfied: requests in c:\\programdata\\anaconda3\\lib\\site-packages (from translate) (2.31.0)\n",
      "Requirement already satisfied: libretranslatepy==2.1.1 in c:\\users\\vikas reddy\\appdata\\roaming\\python\\python311\\site-packages (from translate) (2.1.1)\n",
      "Requirement already satisfied: colorama in c:\\programdata\\anaconda3\\lib\\site-packages (from click->translate) (0.4.6)\n",
      "Requirement already satisfied: charset-normalizer<4,>=2 in c:\\programdata\\anaconda3\\lib\\site-packages (from requests->translate) (2.0.4)\n",
      "Requirement already satisfied: idna<4,>=2.5 in c:\\programdata\\anaconda3\\lib\\site-packages (from requests->translate) (3.4)\n",
      "Requirement already satisfied: urllib3<3,>=1.21.1 in c:\\programdata\\anaconda3\\lib\\site-packages (from requests->translate) (2.0.7)\n",
      "Requirement already satisfied: certifi>=2017.4.17 in c:\\programdata\\anaconda3\\lib\\site-packages (from requests->translate) (2024.2.2)\n"
     ]
    },
    {
     "name": "stderr",
     "output_type": "stream",
     "text": [
      "DEPRECATION: Loading egg at c:\\programdata\\anaconda3\\lib\\site-packages\\vboxapi-1.0-py3.11.egg is deprecated. pip 24.3 will enforce this behaviour change. A possible replacement is to use pip for package installation.. Discussion can be found at https://github.com/pypa/pip/issues/12330\n"
     ]
    }
   ],
   "source": [
    "!pip install translate"
   ]
  },
  {
   "cell_type": "code",
   "execution_count": 14,
   "id": "46064f31-0cb2-432f-8215-866786890363",
   "metadata": {},
   "outputs": [
    {
     "data": {
      "text/plain": [
       "'ఎలా ఉనారు ?'"
      ]
     },
     "execution_count": 14,
     "metadata": {},
     "output_type": "execute_result"
    }
   ],
   "source": [
    "from translate import Translator\n",
    "translator= Translator(to_lang=\"te\")\n",
    "translation = translator.translate(\"How are you?\")\n",
    "translation"
   ]
  },
  {
   "cell_type": "code",
   "execution_count": 15,
   "id": "5139efac-08c2-4c80-8f75-ed08c85adbb1",
   "metadata": {},
   "outputs": [
    {
     "data": {
      "text/plain": [
       "'कशी आहेस?'"
      ]
     },
     "execution_count": 15,
     "metadata": {},
     "output_type": "execute_result"
    }
   ],
   "source": [
    "from translate import Translator\n",
    "translator= Translator(to_lang=\"mr\")\n",
    "translation = translator.translate(\"How are you?\")\n",
    "translation"
   ]
  },
  {
   "cell_type": "code",
   "execution_count": 16,
   "id": "b2560458-67ce-412d-81b5-6742d51c18d9",
   "metadata": {},
   "outputs": [
    {
     "data": {
      "text/plain": [
       "'உங்கள் மகள் எப்படி இருக்கிறார்?'"
      ]
     },
     "execution_count": 16,
     "metadata": {},
     "output_type": "execute_result"
    }
   ],
   "source": [
    "from translate import Translator\n",
    "translator= Translator(to_lang=\"ta\")\n",
    "translation = translator.translate(\"How are you?\")\n",
    "translation"
   ]
  },
  {
   "cell_type": "code",
   "execution_count": 17,
   "id": "e4f2b1b8-28f4-46d1-aa90-258f8e95a9e3",
   "metadata": {},
   "outputs": [
    {
     "name": "stdout",
     "output_type": "stream",
     "text": [
      "Defaulting to user installation because normal site-packages is not writeable\n",
      "Requirement already satisfied: python-vlc in c:\\users\\vikas reddy\\appdata\\roaming\\python\\python311\\site-packages (3.0.21203)\n"
     ]
    },
    {
     "name": "stderr",
     "output_type": "stream",
     "text": [
      "DEPRECATION: Loading egg at c:\\programdata\\anaconda3\\lib\\site-packages\\vboxapi-1.0-py3.11.egg is deprecated. pip 24.3 will enforce this behaviour change. A possible replacement is to use pip for package installation.. Discussion can be found at https://github.com/pypa/pip/issues/12330\n"
     ]
    }
   ],
   "source": [
    "!pip install python-vlc"
   ]
  },
  {
   "cell_type": "code",
   "execution_count": 18,
   "id": "0b395565-d1f6-4b9b-a4db-a41e465e2ec3",
   "metadata": {},
   "outputs": [
    {
     "data": {
      "text/plain": [
       "0"
      ]
     },
     "execution_count": 18,
     "metadata": {},
     "output_type": "execute_result"
    }
   ],
   "source": [
    "import vlc\n",
    "p = vlc.MediaPlayer(\"audio.mp3\")\n",
    "p.play()"
   ]
  },
  {
   "cell_type": "code",
   "execution_count": 19,
   "id": "a251e367-b9d5-492e-9d95-a7d142933e91",
   "metadata": {},
   "outputs": [
    {
     "name": "stdout",
     "output_type": "stream",
     "text": [
      "Defaulting to user installation because normal site-packages is not writeable\n",
      "Requirement already satisfied: playsound in c:\\users\\vikas reddy\\appdata\\roaming\\python\\python311\\site-packages (1.3.0)\n"
     ]
    },
    {
     "name": "stderr",
     "output_type": "stream",
     "text": [
      "DEPRECATION: Loading egg at c:\\programdata\\anaconda3\\lib\\site-packages\\vboxapi-1.0-py3.11.egg is deprecated. pip 24.3 will enforce this behaviour change. A possible replacement is to use pip for package installation.. Discussion can be found at https://github.com/pypa/pip/issues/12330\n"
     ]
    }
   ],
   "source": [
    "!pip install playsound"
   ]
  },
  {
   "cell_type": "code",
   "execution_count": 1,
   "id": "16780425-be21-4505-aaa6-30b56251c23d",
   "metadata": {},
   "outputs": [
    {
     "name": "stdout",
     "output_type": "stream",
     "text": [
      "playing sound using playsound\n"
     ]
    }
   ],
   "source": [
    "import playsound as pl\n",
    "pl.playsound('audio.mp3')\n",
    "print('playing sound using playsound')"
   ]
  },
  {
   "cell_type": "code",
   "execution_count": 2,
   "id": "24763376-f895-4e69-89cd-1db793e2bd23",
   "metadata": {},
   "outputs": [
    {
     "name": "stdout",
     "output_type": "stream",
     "text": [
      "Defaulting to user installation because normal site-packages is not writeable\n",
      "Collecting SpeechRecognition\n",
      "  Downloading SpeechRecognition-3.14.1-py3-none-any.whl.metadata (31 kB)\n",
      "Requirement already satisfied: typing-extensions in c:\\programdata\\anaconda3\\lib\\site-packages (from SpeechRecognition) (4.9.0)\n",
      "Downloading SpeechRecognition-3.14.1-py3-none-any.whl (32.9 MB)\n",
      "   ---------------------------------------- 0.0/32.9 MB ? eta -:--:--\n",
      "   ---------------------------------------- 0.0/32.9 MB 1.3 MB/s eta 0:00:26\n",
      "   ---------------------------------------- 0.1/32.9 MB 1.1 MB/s eta 0:00:31\n",
      "   ---------------------------------------- 0.1/32.9 MB 939.4 kB/s eta 0:00:35\n",
      "   ---------------------------------------- 0.2/32.9 MB 1.1 MB/s eta 0:00:30\n",
      "   ---------------------------------------- 0.2/32.9 MB 1.2 MB/s eta 0:00:29\n",
      "   ---------------------------------------- 0.3/32.9 MB 1.1 MB/s eta 0:00:29\n",
      "   ---------------------------------------- 0.3/32.9 MB 1.1 MB/s eta 0:00:31\n",
      "   ---------------------------------------- 0.4/32.9 MB 1.1 MB/s eta 0:00:31\n",
      "   ---------------------------------------- 0.4/32.9 MB 1.1 MB/s eta 0:00:31\n",
      "    --------------------------------------- 0.4/32.9 MB 984.2 kB/s eta 0:00:33\n",
      "    --------------------------------------- 0.5/32.9 MB 973.2 kB/s eta 0:00:34\n",
      "    --------------------------------------- 0.6/32.9 MB 1.0 MB/s eta 0:00:32\n",
      "    --------------------------------------- 0.6/32.9 MB 992.1 kB/s eta 0:00:33\n",
      "    --------------------------------------- 0.6/32.9 MB 990.5 kB/s eta 0:00:33\n",
      "    --------------------------------------- 0.7/32.9 MB 1.0 MB/s eta 0:00:32\n",
      "    --------------------------------------- 0.7/32.9 MB 1.0 MB/s eta 0:00:32\n",
      "    --------------------------------------- 0.8/32.9 MB 1.0 MB/s eta 0:00:32\n",
      "    --------------------------------------- 0.8/32.9 MB 939.9 kB/s eta 0:00:35\n",
      "   - -------------------------------------- 0.8/32.9 MB 947.9 kB/s eta 0:00:34\n",
      "   - -------------------------------------- 0.9/32.9 MB 966.2 kB/s eta 0:00:34\n",
      "   - -------------------------------------- 0.9/32.9 MB 977.8 kB/s eta 0:00:33\n",
      "   - -------------------------------------- 1.0/32.9 MB 942.1 kB/s eta 0:00:34\n",
      "   - -------------------------------------- 1.0/32.9 MB 929.1 kB/s eta 0:00:35\n",
      "   - -------------------------------------- 1.0/32.9 MB 936.0 kB/s eta 0:00:34\n",
      "   - -------------------------------------- 1.1/32.9 MB 917.4 kB/s eta 0:00:35\n",
      "   - -------------------------------------- 1.1/32.9 MB 936.3 kB/s eta 0:00:34\n",
      "   - -------------------------------------- 1.2/32.9 MB 942.1 kB/s eta 0:00:34\n",
      "   - -------------------------------------- 1.2/32.9 MB 955.3 kB/s eta 0:00:34\n",
      "   - -------------------------------------- 1.3/32.9 MB 960.0 kB/s eta 0:00:33\n",
      "   - -------------------------------------- 1.4/32.9 MB 964.4 kB/s eta 0:00:33\n",
      "   - -------------------------------------- 1.4/32.9 MB 990.5 kB/s eta 0:00:32\n",
      "   - -------------------------------------- 1.5/32.9 MB 976.2 kB/s eta 0:00:33\n",
      "   - -------------------------------------- 1.6/32.9 MB 999.5 kB/s eta 0:00:32\n",
      "   - -------------------------------------- 1.6/32.9 MB 1.0 MB/s eta 0:00:31\n",
      "   -- ------------------------------------- 1.7/32.9 MB 1.0 MB/s eta 0:00:31\n",
      "   -- ------------------------------------- 1.8/32.9 MB 1.0 MB/s eta 0:00:30\n",
      "   -- ------------------------------------- 1.8/32.9 MB 1.0 MB/s eta 0:00:31\n",
      "   -- ------------------------------------- 1.9/32.9 MB 1.0 MB/s eta 0:00:30\n",
      "   -- ------------------------------------- 1.9/32.9 MB 1.0 MB/s eta 0:00:30\n",
      "   -- ------------------------------------- 2.0/32.9 MB 1.1 MB/s eta 0:00:29\n",
      "   -- ------------------------------------- 2.1/32.9 MB 1.1 MB/s eta 0:00:29\n",
      "   -- ------------------------------------- 2.1/32.9 MB 1.1 MB/s eta 0:00:29\n",
      "   -- ------------------------------------- 2.2/32.9 MB 1.1 MB/s eta 0:00:29\n",
      "   -- ------------------------------------- 2.3/32.9 MB 1.1 MB/s eta 0:00:29\n",
      "   -- ------------------------------------- 2.3/32.9 MB 1.1 MB/s eta 0:00:29\n",
      "   -- ------------------------------------- 2.3/32.9 MB 1.1 MB/s eta 0:00:30\n",
      "   -- ------------------------------------- 2.3/32.9 MB 1.1 MB/s eta 0:00:30\n",
      "   -- ------------------------------------- 2.3/32.9 MB 1.0 MB/s eta 0:00:30\n",
      "   -- ------------------------------------- 2.4/32.9 MB 1.0 MB/s eta 0:00:30\n",
      "   -- ------------------------------------- 2.4/32.9 MB 1.0 MB/s eta 0:00:30\n",
      "   --- ------------------------------------ 2.5/32.9 MB 1.0 MB/s eta 0:00:30\n",
      "   --- ------------------------------------ 2.5/32.9 MB 1.0 MB/s eta 0:00:30\n",
      "   --- ------------------------------------ 2.5/32.9 MB 1.0 MB/s eta 0:00:30\n",
      "   --- ------------------------------------ 2.6/32.9 MB 1.0 MB/s eta 0:00:30\n",
      "   --- ------------------------------------ 2.6/32.9 MB 1.0 MB/s eta 0:00:30\n",
      "   --- ------------------------------------ 2.7/32.9 MB 1.0 MB/s eta 0:00:30\n",
      "   --- ------------------------------------ 2.7/32.9 MB 1.0 MB/s eta 0:00:30\n",
      "   --- ------------------------------------ 2.8/32.9 MB 1.0 MB/s eta 0:00:30\n",
      "   --- ------------------------------------ 2.8/32.9 MB 1.0 MB/s eta 0:00:30\n",
      "   --- ------------------------------------ 2.9/32.9 MB 1.0 MB/s eta 0:00:30\n",
      "   --- ------------------------------------ 3.0/32.9 MB 1.0 MB/s eta 0:00:30\n",
      "   --- ------------------------------------ 3.0/32.9 MB 1.0 MB/s eta 0:00:30\n",
      "   --- ------------------------------------ 3.1/32.9 MB 1.0 MB/s eta 0:00:30\n",
      "   --- ------------------------------------ 3.1/32.9 MB 1.0 MB/s eta 0:00:30\n",
      "   --- ------------------------------------ 3.2/32.9 MB 1.0 MB/s eta 0:00:29\n",
      "   --- ------------------------------------ 3.2/32.9 MB 1.0 MB/s eta 0:00:29\n",
      "   ---- ----------------------------------- 3.3/32.9 MB 1.0 MB/s eta 0:00:29\n",
      "   ---- ----------------------------------- 3.4/32.9 MB 1.0 MB/s eta 0:00:29\n",
      "   ---- ----------------------------------- 3.5/32.9 MB 1.0 MB/s eta 0:00:29\n",
      "   ---- ----------------------------------- 3.5/32.9 MB 1.1 MB/s eta 0:00:28\n",
      "   ---- ----------------------------------- 3.6/32.9 MB 1.1 MB/s eta 0:00:28\n",
      "   ---- ----------------------------------- 3.6/32.9 MB 1.1 MB/s eta 0:00:28\n",
      "   ---- ----------------------------------- 3.7/32.9 MB 1.1 MB/s eta 0:00:28\n",
      "   ---- ----------------------------------- 3.7/32.9 MB 1.1 MB/s eta 0:00:28\n",
      "   ---- ----------------------------------- 3.8/32.9 MB 1.1 MB/s eta 0:00:28\n",
      "   ---- ----------------------------------- 3.8/32.9 MB 1.1 MB/s eta 0:00:28\n",
      "   ---- ----------------------------------- 3.9/32.9 MB 1.1 MB/s eta 0:00:28\n",
      "   ---- ----------------------------------- 3.9/32.9 MB 1.1 MB/s eta 0:00:28\n",
      "   ---- ----------------------------------- 4.0/32.9 MB 1.1 MB/s eta 0:00:28\n",
      "   ---- ----------------------------------- 4.1/32.9 MB 1.1 MB/s eta 0:00:28\n",
      "   ----- ---------------------------------- 4.1/32.9 MB 1.1 MB/s eta 0:00:27\n",
      "   ----- ---------------------------------- 4.2/32.9 MB 1.1 MB/s eta 0:00:27\n",
      "   ----- ---------------------------------- 4.2/32.9 MB 1.1 MB/s eta 0:00:27\n",
      "   ----- ---------------------------------- 4.2/32.9 MB 1.1 MB/s eta 0:00:27\n",
      "   ----- ---------------------------------- 4.3/32.9 MB 1.1 MB/s eta 0:00:28\n",
      "   ----- ---------------------------------- 4.4/32.9 MB 1.1 MB/s eta 0:00:27\n",
      "   ----- ---------------------------------- 4.4/32.9 MB 1.1 MB/s eta 0:00:27\n",
      "   ----- ---------------------------------- 4.4/32.9 MB 1.1 MB/s eta 0:00:27\n",
      "   ----- ---------------------------------- 4.5/32.9 MB 1.1 MB/s eta 0:00:27\n",
      "   ----- ---------------------------------- 4.6/32.9 MB 1.1 MB/s eta 0:00:27\n",
      "   ----- ---------------------------------- 4.6/32.9 MB 1.1 MB/s eta 0:00:27\n",
      "   ----- ---------------------------------- 4.7/32.9 MB 1.1 MB/s eta 0:00:27\n",
      "   ----- ---------------------------------- 4.8/32.9 MB 1.1 MB/s eta 0:00:27\n",
      "   ----- ---------------------------------- 4.8/32.9 MB 1.1 MB/s eta 0:00:27\n",
      "   ----- ---------------------------------- 4.9/32.9 MB 1.1 MB/s eta 0:00:26\n",
      "   ------ --------------------------------- 5.0/32.9 MB 1.1 MB/s eta 0:00:26\n",
      "   ------ --------------------------------- 5.0/32.9 MB 1.1 MB/s eta 0:00:26\n",
      "   ------ --------------------------------- 5.1/32.9 MB 1.1 MB/s eta 0:00:26\n",
      "   ------ --------------------------------- 5.1/32.9 MB 1.1 MB/s eta 0:00:26\n",
      "   ------ --------------------------------- 5.2/32.9 MB 1.1 MB/s eta 0:00:26\n",
      "   ------ --------------------------------- 5.3/32.9 MB 1.1 MB/s eta 0:00:26\n",
      "   ------ --------------------------------- 5.3/32.9 MB 1.1 MB/s eta 0:00:26\n",
      "   ------ --------------------------------- 5.4/32.9 MB 1.1 MB/s eta 0:00:26\n",
      "   ------ --------------------------------- 5.4/32.9 MB 1.1 MB/s eta 0:00:25\n",
      "   ------ --------------------------------- 5.5/32.9 MB 1.1 MB/s eta 0:00:25\n",
      "   ------ --------------------------------- 5.5/32.9 MB 1.1 MB/s eta 0:00:25\n",
      "   ------ --------------------------------- 5.6/32.9 MB 1.1 MB/s eta 0:00:25\n",
      "   ------ --------------------------------- 5.6/32.9 MB 1.1 MB/s eta 0:00:25\n",
      "   ------ --------------------------------- 5.7/32.9 MB 1.1 MB/s eta 0:00:25\n",
      "   ------- -------------------------------- 5.8/32.9 MB 1.1 MB/s eta 0:00:25\n",
      "   ------- -------------------------------- 5.8/32.9 MB 1.1 MB/s eta 0:00:25\n",
      "   ------- -------------------------------- 5.9/32.9 MB 1.1 MB/s eta 0:00:25\n",
      "   ------- -------------------------------- 5.9/32.9 MB 1.1 MB/s eta 0:00:25\n",
      "   ------- -------------------------------- 6.0/32.9 MB 1.1 MB/s eta 0:00:25\n",
      "   ------- -------------------------------- 6.1/32.9 MB 1.1 MB/s eta 0:00:25\n",
      "   ------- -------------------------------- 6.1/32.9 MB 1.1 MB/s eta 0:00:25\n",
      "   ------- -------------------------------- 6.2/32.9 MB 1.1 MB/s eta 0:00:25\n",
      "   ------- -------------------------------- 6.3/32.9 MB 1.1 MB/s eta 0:00:24\n",
      "   ------- -------------------------------- 6.3/32.9 MB 1.1 MB/s eta 0:00:24\n",
      "   ------- -------------------------------- 6.4/32.9 MB 1.1 MB/s eta 0:00:24\n",
      "   ------- -------------------------------- 6.5/32.9 MB 1.1 MB/s eta 0:00:24\n",
      "   ------- -------------------------------- 6.5/32.9 MB 1.1 MB/s eta 0:00:24\n",
      "   -------- ------------------------------- 6.6/32.9 MB 1.1 MB/s eta 0:00:24\n",
      "   -------- ------------------------------- 6.6/32.9 MB 1.1 MB/s eta 0:00:24\n",
      "   -------- ------------------------------- 6.7/32.9 MB 1.1 MB/s eta 0:00:24\n",
      "   -------- ------------------------------- 6.7/32.9 MB 1.1 MB/s eta 0:00:24\n",
      "   -------- ------------------------------- 6.8/32.9 MB 1.1 MB/s eta 0:00:24\n",
      "   -------- ------------------------------- 6.8/32.9 MB 1.1 MB/s eta 0:00:24\n",
      "   -------- ------------------------------- 6.9/32.9 MB 1.1 MB/s eta 0:00:24\n",
      "   -------- ------------------------------- 6.9/32.9 MB 1.1 MB/s eta 0:00:24\n",
      "   -------- ------------------------------- 6.9/32.9 MB 1.1 MB/s eta 0:00:24\n",
      "   -------- ------------------------------- 7.0/32.9 MB 1.1 MB/s eta 0:00:24\n",
      "   -------- ------------------------------- 7.0/32.9 MB 1.1 MB/s eta 0:00:24\n",
      "   -------- ------------------------------- 7.1/32.9 MB 1.1 MB/s eta 0:00:24\n",
      "   -------- ------------------------------- 7.1/32.9 MB 1.1 MB/s eta 0:00:24\n",
      "   -------- ------------------------------- 7.2/32.9 MB 1.1 MB/s eta 0:00:24\n",
      "   -------- ------------------------------- 7.3/32.9 MB 1.1 MB/s eta 0:00:24\n",
      "   -------- ------------------------------- 7.3/32.9 MB 1.1 MB/s eta 0:00:24\n",
      "   -------- ------------------------------- 7.4/32.9 MB 1.1 MB/s eta 0:00:23\n",
      "   --------- ------------------------------ 7.4/32.9 MB 1.1 MB/s eta 0:00:23\n",
      "   --------- ------------------------------ 7.5/32.9 MB 1.1 MB/s eta 0:00:23\n",
      "   --------- ------------------------------ 7.5/32.9 MB 1.1 MB/s eta 0:00:23\n",
      "   --------- ------------------------------ 7.6/32.9 MB 1.1 MB/s eta 0:00:23\n",
      "   --------- ------------------------------ 7.6/32.9 MB 1.1 MB/s eta 0:00:23\n",
      "   --------- ------------------------------ 7.7/32.9 MB 1.1 MB/s eta 0:00:23\n",
      "   --------- ------------------------------ 7.8/32.9 MB 1.1 MB/s eta 0:00:23\n",
      "   --------- ------------------------------ 7.8/32.9 MB 1.1 MB/s eta 0:00:23\n",
      "   --------- ------------------------------ 7.8/32.9 MB 1.1 MB/s eta 0:00:23\n",
      "   --------- ------------------------------ 7.9/32.9 MB 1.1 MB/s eta 0:00:23\n",
      "   --------- ------------------------------ 7.9/32.9 MB 1.1 MB/s eta 0:00:23\n",
      "   --------- ------------------------------ 8.0/32.9 MB 1.1 MB/s eta 0:00:23\n",
      "   --------- ------------------------------ 8.0/32.9 MB 1.1 MB/s eta 0:00:23\n",
      "   --------- ------------------------------ 8.1/32.9 MB 1.1 MB/s eta 0:00:23\n",
      "   --------- ------------------------------ 8.1/32.9 MB 1.1 MB/s eta 0:00:23\n",
      "   --------- ------------------------------ 8.2/32.9 MB 1.1 MB/s eta 0:00:23\n",
      "   ---------- ----------------------------- 8.3/32.9 MB 1.1 MB/s eta 0:00:23\n",
      "   ---------- ----------------------------- 8.3/32.9 MB 1.1 MB/s eta 0:00:23\n",
      "   ---------- ----------------------------- 8.4/32.9 MB 1.1 MB/s eta 0:00:22\n",
      "   ---------- ----------------------------- 8.5/32.9 MB 1.1 MB/s eta 0:00:22\n",
      "   ---------- ----------------------------- 8.6/32.9 MB 1.1 MB/s eta 0:00:22\n",
      "   ---------- ----------------------------- 8.7/32.9 MB 1.1 MB/s eta 0:00:22\n",
      "   ---------- ----------------------------- 8.8/32.9 MB 1.1 MB/s eta 0:00:22\n",
      "   ---------- ----------------------------- 8.8/32.9 MB 1.1 MB/s eta 0:00:22\n",
      "   ---------- ----------------------------- 8.9/32.9 MB 1.1 MB/s eta 0:00:22\n",
      "   ---------- ----------------------------- 9.0/32.9 MB 1.1 MB/s eta 0:00:22\n",
      "   ---------- ----------------------------- 9.0/32.9 MB 1.1 MB/s eta 0:00:21\n",
      "   ----------- ---------------------------- 9.1/32.9 MB 1.1 MB/s eta 0:00:21\n",
      "   ----------- ---------------------------- 9.1/32.9 MB 1.1 MB/s eta 0:00:21\n",
      "   ----------- ---------------------------- 9.2/32.9 MB 1.1 MB/s eta 0:00:21\n",
      "   ----------- ---------------------------- 9.2/32.9 MB 1.1 MB/s eta 0:00:21\n",
      "   ----------- ---------------------------- 9.3/32.9 MB 1.1 MB/s eta 0:00:21\n",
      "   ----------- ---------------------------- 9.4/32.9 MB 1.1 MB/s eta 0:00:21\n",
      "   ----------- ---------------------------- 9.4/32.9 MB 1.1 MB/s eta 0:00:21\n",
      "   ----------- ---------------------------- 9.5/32.9 MB 1.1 MB/s eta 0:00:21\n",
      "   ----------- ---------------------------- 9.6/32.9 MB 1.1 MB/s eta 0:00:21\n",
      "   ----------- ---------------------------- 9.7/32.9 MB 1.1 MB/s eta 0:00:21\n",
      "   ----------- ---------------------------- 9.7/32.9 MB 1.2 MB/s eta 0:00:21\n",
      "   ----------- ---------------------------- 9.8/32.9 MB 1.2 MB/s eta 0:00:20\n",
      "   ------------ --------------------------- 9.9/32.9 MB 1.2 MB/s eta 0:00:20\n",
      "   ------------ --------------------------- 9.9/32.9 MB 1.2 MB/s eta 0:00:20\n",
      "   ------------ --------------------------- 10.0/32.9 MB 1.2 MB/s eta 0:00:20\n",
      "   ------------ --------------------------- 10.1/32.9 MB 1.2 MB/s eta 0:00:20\n",
      "   ------------ --------------------------- 10.1/32.9 MB 1.2 MB/s eta 0:00:20\n",
      "   ------------ --------------------------- 10.2/32.9 MB 1.2 MB/s eta 0:00:20\n",
      "   ------------ --------------------------- 10.3/32.9 MB 1.2 MB/s eta 0:00:20\n",
      "   ------------ --------------------------- 10.4/32.9 MB 1.2 MB/s eta 0:00:20\n",
      "   ------------ --------------------------- 10.4/32.9 MB 1.2 MB/s eta 0:00:20\n",
      "   ------------ --------------------------- 10.5/32.9 MB 1.2 MB/s eta 0:00:20\n",
      "   ------------ --------------------------- 10.6/32.9 MB 1.2 MB/s eta 0:00:19\n",
      "   ------------- -------------------------- 10.7/32.9 MB 1.2 MB/s eta 0:00:19\n",
      "   ------------- -------------------------- 10.8/32.9 MB 1.2 MB/s eta 0:00:19\n",
      "   ------------- -------------------------- 10.8/32.9 MB 1.2 MB/s eta 0:00:19\n",
      "   ------------- -------------------------- 10.9/32.9 MB 1.2 MB/s eta 0:00:19\n",
      "   ------------- -------------------------- 11.0/32.9 MB 1.2 MB/s eta 0:00:19\n",
      "   ------------- -------------------------- 11.1/32.9 MB 1.2 MB/s eta 0:00:18\n",
      "   ------------- -------------------------- 11.2/32.9 MB 1.2 MB/s eta 0:00:18\n",
      "   ------------- -------------------------- 11.2/32.9 MB 1.2 MB/s eta 0:00:18\n",
      "   ------------- -------------------------- 11.3/32.9 MB 1.2 MB/s eta 0:00:18\n",
      "   ------------- -------------------------- 11.4/32.9 MB 1.2 MB/s eta 0:00:18\n",
      "   ------------- -------------------------- 11.5/32.9 MB 1.2 MB/s eta 0:00:18\n",
      "   -------------- ------------------------- 11.6/32.9 MB 1.2 MB/s eta 0:00:18\n",
      "   -------------- ------------------------- 11.6/32.9 MB 1.2 MB/s eta 0:00:18\n",
      "   -------------- ------------------------- 11.7/32.9 MB 1.2 MB/s eta 0:00:17\n",
      "   -------------- ------------------------- 11.8/32.9 MB 1.2 MB/s eta 0:00:17\n",
      "   -------------- ------------------------- 11.9/32.9 MB 1.3 MB/s eta 0:00:17\n",
      "   -------------- ------------------------- 12.0/32.9 MB 1.3 MB/s eta 0:00:17\n",
      "   -------------- ------------------------- 12.1/32.9 MB 1.3 MB/s eta 0:00:17\n",
      "   -------------- ------------------------- 12.2/32.9 MB 1.3 MB/s eta 0:00:17\n",
      "   -------------- ------------------------- 12.2/32.9 MB 1.3 MB/s eta 0:00:17\n",
      "   -------------- ------------------------- 12.3/32.9 MB 1.3 MB/s eta 0:00:17\n",
      "   --------------- ------------------------ 12.3/32.9 MB 1.3 MB/s eta 0:00:17\n",
      "   --------------- ------------------------ 12.4/32.9 MB 1.3 MB/s eta 0:00:17\n",
      "   --------------- ------------------------ 12.5/32.9 MB 1.3 MB/s eta 0:00:17\n",
      "   --------------- ------------------------ 12.6/32.9 MB 1.3 MB/s eta 0:00:16\n",
      "   --------------- ------------------------ 12.6/32.9 MB 1.3 MB/s eta 0:00:16\n",
      "   --------------- ------------------------ 12.7/32.9 MB 1.3 MB/s eta 0:00:16\n",
      "   --------------- ------------------------ 12.7/32.9 MB 1.3 MB/s eta 0:00:16\n",
      "   --------------- ------------------------ 12.8/32.9 MB 1.3 MB/s eta 0:00:16\n",
      "   --------------- ------------------------ 12.9/32.9 MB 1.3 MB/s eta 0:00:16\n",
      "   --------------- ------------------------ 12.9/32.9 MB 1.3 MB/s eta 0:00:16\n",
      "   --------------- ------------------------ 13.0/32.9 MB 1.3 MB/s eta 0:00:16\n",
      "   --------------- ------------------------ 13.1/32.9 MB 1.3 MB/s eta 0:00:16\n",
      "   --------------- ------------------------ 13.1/32.9 MB 1.3 MB/s eta 0:00:16\n",
      "   ---------------- ----------------------- 13.2/32.9 MB 1.3 MB/s eta 0:00:15\n",
      "   ---------------- ----------------------- 13.3/32.9 MB 1.3 MB/s eta 0:00:15\n",
      "   ---------------- ----------------------- 13.3/32.9 MB 1.3 MB/s eta 0:00:15\n",
      "   ---------------- ----------------------- 13.4/32.9 MB 1.3 MB/s eta 0:00:15\n",
      "   ---------------- ----------------------- 13.4/32.9 MB 1.3 MB/s eta 0:00:15\n",
      "   ---------------- ----------------------- 13.4/32.9 MB 1.3 MB/s eta 0:00:15\n",
      "   ---------------- ----------------------- 13.5/32.9 MB 1.3 MB/s eta 0:00:15\n",
      "   ---------------- ----------------------- 13.6/32.9 MB 1.3 MB/s eta 0:00:15\n",
      "   ---------------- ----------------------- 13.6/32.9 MB 1.3 MB/s eta 0:00:15\n",
      "   ---------------- ----------------------- 13.7/32.9 MB 1.3 MB/s eta 0:00:15\n",
      "   ---------------- ----------------------- 13.8/32.9 MB 1.3 MB/s eta 0:00:15\n",
      "   ---------------- ----------------------- 13.9/32.9 MB 1.3 MB/s eta 0:00:15\n",
      "   ----------------- ---------------------- 14.0/32.9 MB 1.3 MB/s eta 0:00:15\n",
      "   ----------------- ---------------------- 14.1/32.9 MB 1.3 MB/s eta 0:00:15\n",
      "   ----------------- ---------------------- 14.2/32.9 MB 1.3 MB/s eta 0:00:14\n",
      "   ----------------- ---------------------- 14.3/32.9 MB 1.3 MB/s eta 0:00:14\n",
      "   ----------------- ---------------------- 14.3/32.9 MB 1.3 MB/s eta 0:00:14\n",
      "   ----------------- ---------------------- 14.4/32.9 MB 1.3 MB/s eta 0:00:14\n",
      "   ----------------- ---------------------- 14.5/32.9 MB 1.4 MB/s eta 0:00:14\n",
      "   ----------------- ---------------------- 14.6/32.9 MB 1.4 MB/s eta 0:00:14\n",
      "   ----------------- ---------------------- 14.6/32.9 MB 1.4 MB/s eta 0:00:14\n",
      "   ----------------- ---------------------- 14.7/32.9 MB 1.4 MB/s eta 0:00:14\n",
      "   ----------------- ---------------------- 14.8/32.9 MB 1.4 MB/s eta 0:00:14\n",
      "   ------------------ --------------------- 14.9/32.9 MB 1.4 MB/s eta 0:00:14\n",
      "   ------------------ --------------------- 14.9/32.9 MB 1.4 MB/s eta 0:00:14\n",
      "   ------------------ --------------------- 15.0/32.9 MB 1.4 MB/s eta 0:00:13\n",
      "   ------------------ --------------------- 15.1/32.9 MB 1.4 MB/s eta 0:00:13\n",
      "   ------------------ --------------------- 15.2/32.9 MB 1.4 MB/s eta 0:00:13\n",
      "   ------------------ --------------------- 15.2/32.9 MB 1.4 MB/s eta 0:00:13\n",
      "   ------------------ --------------------- 15.3/32.9 MB 1.4 MB/s eta 0:00:13\n",
      "   ------------------ --------------------- 15.4/32.9 MB 1.4 MB/s eta 0:00:13\n",
      "   ------------------ --------------------- 15.5/32.9 MB 1.4 MB/s eta 0:00:13\n",
      "   ------------------ --------------------- 15.5/32.9 MB 1.4 MB/s eta 0:00:13\n",
      "   ------------------ --------------------- 15.5/32.9 MB 1.4 MB/s eta 0:00:13\n",
      "   ------------------ --------------------- 15.6/32.9 MB 1.4 MB/s eta 0:00:13\n",
      "   ------------------- -------------------- 15.6/32.9 MB 1.4 MB/s eta 0:00:13\n",
      "   ------------------- -------------------- 15.7/32.9 MB 1.4 MB/s eta 0:00:13\n",
      "   ------------------- -------------------- 15.8/32.9 MB 1.4 MB/s eta 0:00:13\n",
      "   ------------------- -------------------- 15.9/32.9 MB 1.4 MB/s eta 0:00:13\n",
      "   ------------------- -------------------- 15.9/32.9 MB 1.4 MB/s eta 0:00:13\n",
      "   ------------------- -------------------- 15.9/32.9 MB 1.4 MB/s eta 0:00:13\n",
      "   ------------------- -------------------- 16.0/32.9 MB 1.4 MB/s eta 0:00:13\n",
      "   ------------------- -------------------- 16.1/32.9 MB 1.4 MB/s eta 0:00:13\n",
      "   ------------------- -------------------- 16.1/32.9 MB 1.4 MB/s eta 0:00:13\n",
      "   ------------------- -------------------- 16.3/32.9 MB 1.4 MB/s eta 0:00:12\n",
      "   ------------------- -------------------- 16.3/32.9 MB 1.4 MB/s eta 0:00:12\n",
      "   ------------------- -------------------- 16.3/32.9 MB 1.4 MB/s eta 0:00:12\n",
      "   ------------------- -------------------- 16.4/32.9 MB 1.4 MB/s eta 0:00:12\n",
      "   ------------------- -------------------- 16.4/32.9 MB 1.4 MB/s eta 0:00:12\n",
      "   ------------------- -------------------- 16.4/32.9 MB 1.4 MB/s eta 0:00:12\n",
      "   ------------------- -------------------- 16.4/32.9 MB 1.4 MB/s eta 0:00:12\n",
      "   -------------------- ------------------- 16.7/32.9 MB 1.4 MB/s eta 0:00:12\n",
      "   -------------------- ------------------- 16.8/32.9 MB 1.4 MB/s eta 0:00:12\n",
      "   -------------------- ------------------- 16.8/32.9 MB 1.4 MB/s eta 0:00:12\n",
      "   -------------------- ------------------- 16.9/32.9 MB 1.4 MB/s eta 0:00:12\n",
      "   -------------------- ------------------- 17.0/32.9 MB 1.4 MB/s eta 0:00:12\n",
      "   -------------------- ------------------- 17.1/32.9 MB 1.4 MB/s eta 0:00:12\n",
      "   -------------------- ------------------- 17.2/32.9 MB 1.4 MB/s eta 0:00:12\n",
      "   -------------------- ------------------- 17.2/32.9 MB 1.4 MB/s eta 0:00:11\n",
      "   --------------------- ------------------ 17.3/32.9 MB 1.4 MB/s eta 0:00:11\n",
      "   --------------------- ------------------ 17.3/32.9 MB 1.4 MB/s eta 0:00:11\n",
      "   --------------------- ------------------ 17.4/32.9 MB 1.4 MB/s eta 0:00:11\n",
      "   --------------------- ------------------ 17.5/32.9 MB 1.4 MB/s eta 0:00:11\n",
      "   --------------------- ------------------ 17.5/32.9 MB 1.4 MB/s eta 0:00:11\n",
      "   --------------------- ------------------ 17.6/32.9 MB 1.4 MB/s eta 0:00:11\n",
      "   --------------------- ------------------ 17.6/32.9 MB 1.4 MB/s eta 0:00:11\n",
      "   --------------------- ------------------ 17.6/32.9 MB 1.4 MB/s eta 0:00:11\n",
      "   --------------------- ------------------ 17.7/32.9 MB 1.4 MB/s eta 0:00:11\n",
      "   --------------------- ------------------ 17.8/32.9 MB 1.4 MB/s eta 0:00:11\n",
      "   --------------------- ------------------ 17.9/32.9 MB 1.4 MB/s eta 0:00:11\n",
      "   --------------------- ------------------ 17.9/32.9 MB 1.4 MB/s eta 0:00:11\n",
      "   --------------------- ------------------ 18.0/32.9 MB 1.4 MB/s eta 0:00:11\n",
      "   --------------------- ------------------ 18.0/32.9 MB 1.4 MB/s eta 0:00:11\n",
      "   ---------------------- ----------------- 18.1/32.9 MB 1.4 MB/s eta 0:00:11\n",
      "   ---------------------- ----------------- 18.2/32.9 MB 1.5 MB/s eta 0:00:10\n",
      "   ---------------------- ----------------- 18.3/32.9 MB 1.5 MB/s eta 0:00:10\n",
      "   ---------------------- ----------------- 18.4/32.9 MB 1.5 MB/s eta 0:00:10\n",
      "   ---------------------- ----------------- 18.5/32.9 MB 1.5 MB/s eta 0:00:10\n",
      "   ---------------------- ----------------- 18.6/32.9 MB 1.5 MB/s eta 0:00:10\n",
      "   ---------------------- ----------------- 18.6/32.9 MB 1.5 MB/s eta 0:00:10\n",
      "   ---------------------- ----------------- 18.7/32.9 MB 1.5 MB/s eta 0:00:10\n",
      "   ---------------------- ----------------- 18.8/32.9 MB 1.5 MB/s eta 0:00:10\n",
      "   ---------------------- ----------------- 18.8/32.9 MB 1.5 MB/s eta 0:00:10\n",
      "   ---------------------- ----------------- 18.9/32.9 MB 1.5 MB/s eta 0:00:10\n",
      "   ----------------------- ---------------- 19.0/32.9 MB 1.5 MB/s eta 0:00:10\n",
      "   ----------------------- ---------------- 19.0/32.9 MB 1.5 MB/s eta 0:00:10\n",
      "   ----------------------- ---------------- 19.1/32.9 MB 1.5 MB/s eta 0:00:10\n",
      "   ----------------------- ---------------- 19.1/32.9 MB 1.5 MB/s eta 0:00:10\n",
      "   ----------------------- ---------------- 19.2/32.9 MB 1.5 MB/s eta 0:00:10\n",
      "   ----------------------- ---------------- 19.2/32.9 MB 1.4 MB/s eta 0:00:10\n",
      "   ----------------------- ---------------- 19.3/32.9 MB 1.4 MB/s eta 0:00:10\n",
      "   ----------------------- ---------------- 19.4/32.9 MB 1.5 MB/s eta 0:00:10\n",
      "   ----------------------- ---------------- 19.4/32.9 MB 1.5 MB/s eta 0:00:10\n",
      "   ----------------------- ---------------- 19.5/32.9 MB 1.5 MB/s eta 0:00:10\n",
      "   ----------------------- ---------------- 19.6/32.9 MB 1.5 MB/s eta 0:00:10\n",
      "   ----------------------- ---------------- 19.6/32.9 MB 1.5 MB/s eta 0:00:10\n",
      "   ----------------------- ---------------- 19.7/32.9 MB 1.5 MB/s eta 0:00:10\n",
      "   ------------------------ --------------- 19.7/32.9 MB 1.5 MB/s eta 0:00:10\n",
      "   ------------------------ --------------- 19.8/32.9 MB 1.5 MB/s eta 0:00:09\n",
      "   ------------------------ --------------- 19.9/32.9 MB 1.5 MB/s eta 0:00:09\n",
      "   ------------------------ --------------- 20.0/32.9 MB 1.5 MB/s eta 0:00:09\n",
      "   ------------------------ --------------- 20.1/32.9 MB 1.5 MB/s eta 0:00:09\n",
      "   ------------------------ --------------- 20.2/32.9 MB 1.5 MB/s eta 0:00:09\n",
      "   ------------------------ --------------- 20.3/32.9 MB 1.5 MB/s eta 0:00:09\n",
      "   ------------------------ --------------- 20.3/32.9 MB 1.5 MB/s eta 0:00:09\n",
      "   ------------------------ --------------- 20.4/32.9 MB 1.5 MB/s eta 0:00:09\n",
      "   ------------------------ --------------- 20.5/32.9 MB 1.5 MB/s eta 0:00:09\n",
      "   ------------------------- -------------- 20.6/32.9 MB 1.5 MB/s eta 0:00:09\n",
      "   ------------------------- -------------- 20.6/32.9 MB 1.5 MB/s eta 0:00:09\n",
      "   ------------------------- -------------- 20.7/32.9 MB 1.5 MB/s eta 0:00:09\n",
      "   ------------------------- -------------- 20.8/32.9 MB 1.5 MB/s eta 0:00:09\n",
      "   ------------------------- -------------- 20.8/32.9 MB 1.5 MB/s eta 0:00:09\n",
      "   ------------------------- -------------- 20.8/32.9 MB 1.5 MB/s eta 0:00:09\n",
      "   ------------------------- -------------- 20.9/32.9 MB 1.5 MB/s eta 0:00:09\n",
      "   ------------------------- -------------- 20.9/32.9 MB 1.5 MB/s eta 0:00:09\n",
      "   ------------------------- -------------- 21.0/32.9 MB 1.4 MB/s eta 0:00:09\n",
      "   ------------------------- -------------- 21.0/32.9 MB 1.4 MB/s eta 0:00:09\n",
      "   ------------------------- -------------- 21.1/32.9 MB 1.4 MB/s eta 0:00:09\n",
      "   ------------------------- -------------- 21.2/32.9 MB 1.4 MB/s eta 0:00:09\n",
      "   ------------------------- -------------- 21.2/32.9 MB 1.4 MB/s eta 0:00:09\n",
      "   ------------------------- -------------- 21.2/32.9 MB 1.4 MB/s eta 0:00:09\n",
      "   ------------------------- -------------- 21.3/32.9 MB 1.4 MB/s eta 0:00:09\n",
      "   ------------------------- -------------- 21.3/32.9 MB 1.4 MB/s eta 0:00:09\n",
      "   ------------------------- -------------- 21.4/32.9 MB 1.4 MB/s eta 0:00:09\n",
      "   -------------------------- ------------- 21.4/32.9 MB 1.4 MB/s eta 0:00:09\n",
      "   -------------------------- ------------- 21.5/32.9 MB 1.4 MB/s eta 0:00:09\n",
      "   -------------------------- ------------- 21.6/32.9 MB 1.4 MB/s eta 0:00:08\n",
      "   -------------------------- ------------- 21.6/32.9 MB 1.4 MB/s eta 0:00:08\n",
      "   -------------------------- ------------- 21.7/32.9 MB 1.4 MB/s eta 0:00:08\n",
      "   -------------------------- ------------- 21.7/32.9 MB 1.4 MB/s eta 0:00:08\n",
      "   -------------------------- ------------- 21.8/32.9 MB 1.4 MB/s eta 0:00:08\n",
      "   -------------------------- ------------- 21.8/32.9 MB 1.4 MB/s eta 0:00:08\n",
      "   -------------------------- ------------- 21.9/32.9 MB 1.4 MB/s eta 0:00:08\n",
      "   -------------------------- ------------- 21.9/32.9 MB 1.4 MB/s eta 0:00:08\n",
      "   -------------------------- ------------- 21.9/32.9 MB 1.4 MB/s eta 0:00:08\n",
      "   -------------------------- ------------- 22.0/32.9 MB 1.4 MB/s eta 0:00:08\n",
      "   -------------------------- ------------- 22.0/32.9 MB 1.4 MB/s eta 0:00:08\n",
      "   -------------------------- ------------- 22.0/32.9 MB 1.4 MB/s eta 0:00:08\n",
      "   -------------------------- ------------- 22.0/32.9 MB 1.4 MB/s eta 0:00:08\n",
      "   -------------------------- ------------- 22.1/32.9 MB 1.3 MB/s eta 0:00:08\n",
      "   -------------------------- ------------- 22.1/32.9 MB 1.3 MB/s eta 0:00:08\n",
      "   -------------------------- ------------- 22.1/32.9 MB 1.3 MB/s eta 0:00:09\n",
      "   --------------------------- ------------ 22.2/32.9 MB 1.3 MB/s eta 0:00:09\n",
      "   --------------------------- ------------ 22.2/32.9 MB 1.3 MB/s eta 0:00:09\n",
      "   --------------------------- ------------ 22.3/32.9 MB 1.3 MB/s eta 0:00:09\n",
      "   --------------------------- ------------ 22.3/32.9 MB 1.3 MB/s eta 0:00:09\n",
      "   --------------------------- ------------ 22.3/32.9 MB 1.3 MB/s eta 0:00:09\n",
      "   --------------------------- ------------ 22.4/32.9 MB 1.3 MB/s eta 0:00:09\n",
      "   --------------------------- ------------ 22.4/32.9 MB 1.3 MB/s eta 0:00:08\n",
      "   --------------------------- ------------ 22.4/32.9 MB 1.3 MB/s eta 0:00:09\n",
      "   --------------------------- ------------ 22.5/32.9 MB 1.3 MB/s eta 0:00:08\n",
      "   --------------------------- ------------ 22.5/32.9 MB 1.3 MB/s eta 0:00:08\n",
      "   --------------------------- ------------ 22.6/32.9 MB 1.3 MB/s eta 0:00:08\n",
      "   --------------------------- ------------ 22.6/32.9 MB 1.3 MB/s eta 0:00:08\n",
      "   --------------------------- ------------ 22.7/32.9 MB 1.3 MB/s eta 0:00:08\n",
      "   --------------------------- ------------ 22.7/32.9 MB 1.3 MB/s eta 0:00:08\n",
      "   --------------------------- ------------ 22.7/32.9 MB 1.3 MB/s eta 0:00:08\n",
      "   --------------------------- ------------ 22.8/32.9 MB 1.3 MB/s eta 0:00:08\n",
      "   --------------------------- ------------ 22.8/32.9 MB 1.3 MB/s eta 0:00:08\n",
      "   --------------------------- ------------ 22.9/32.9 MB 1.3 MB/s eta 0:00:08\n",
      "   --------------------------- ------------ 22.9/32.9 MB 1.3 MB/s eta 0:00:08\n",
      "   --------------------------- ------------ 22.9/32.9 MB 1.3 MB/s eta 0:00:08\n",
      "   ---------------------------- ----------- 23.0/32.9 MB 1.3 MB/s eta 0:00:08\n",
      "   ---------------------------- ----------- 23.0/32.9 MB 1.3 MB/s eta 0:00:08\n",
      "   ---------------------------- ----------- 23.0/32.9 MB 1.3 MB/s eta 0:00:08\n",
      "   ---------------------------- ----------- 23.1/32.9 MB 1.3 MB/s eta 0:00:08\n",
      "   ---------------------------- ----------- 23.1/32.9 MB 1.2 MB/s eta 0:00:08\n",
      "   ---------------------------- ----------- 23.1/32.9 MB 1.2 MB/s eta 0:00:08\n",
      "   ---------------------------- ----------- 23.1/32.9 MB 1.2 MB/s eta 0:00:08\n",
      "   ---------------------------- ----------- 23.1/32.9 MB 1.2 MB/s eta 0:00:08\n",
      "   ---------------------------- ----------- 23.1/32.9 MB 1.2 MB/s eta 0:00:08\n",
      "   ---------------------------- ----------- 23.1/32.9 MB 1.2 MB/s eta 0:00:08\n",
      "   ---------------------------- ----------- 23.1/32.9 MB 1.2 MB/s eta 0:00:08\n",
      "   ---------------------------- ----------- 23.2/32.9 MB 1.2 MB/s eta 0:00:08\n",
      "   ---------------------------- ----------- 23.2/32.9 MB 1.2 MB/s eta 0:00:08\n",
      "   ---------------------------- ----------- 23.3/32.9 MB 1.2 MB/s eta 0:00:08\n",
      "   ---------------------------- ----------- 23.3/32.9 MB 1.2 MB/s eta 0:00:08\n",
      "   ---------------------------- ----------- 23.3/32.9 MB 1.2 MB/s eta 0:00:08\n",
      "   ---------------------------- ----------- 23.4/32.9 MB 1.2 MB/s eta 0:00:08\n",
      "   ---------------------------- ----------- 23.4/32.9 MB 1.2 MB/s eta 0:00:08\n",
      "   ---------------------------- ----------- 23.5/32.9 MB 1.2 MB/s eta 0:00:08\n",
      "   ---------------------------- ----------- 23.5/32.9 MB 1.2 MB/s eta 0:00:08\n",
      "   ---------------------------- ----------- 23.5/32.9 MB 1.2 MB/s eta 0:00:08\n",
      "   ---------------------------- ----------- 23.6/32.9 MB 1.2 MB/s eta 0:00:08\n",
      "   ---------------------------- ----------- 23.6/32.9 MB 1.2 MB/s eta 0:00:08\n",
      "   ---------------------------- ----------- 23.7/32.9 MB 1.2 MB/s eta 0:00:08\n",
      "   ---------------------------- ----------- 23.7/32.9 MB 1.2 MB/s eta 0:00:08\n",
      "   ---------------------------- ----------- 23.7/32.9 MB 1.2 MB/s eta 0:00:08\n",
      "   ---------------------------- ----------- 23.7/32.9 MB 1.2 MB/s eta 0:00:08\n",
      "   ---------------------------- ----------- 23.8/32.9 MB 1.2 MB/s eta 0:00:08\n",
      "   ---------------------------- ----------- 23.8/32.9 MB 1.2 MB/s eta 0:00:08\n",
      "   ----------------------------- ---------- 23.9/32.9 MB 1.2 MB/s eta 0:00:08\n",
      "   ----------------------------- ---------- 23.9/32.9 MB 1.2 MB/s eta 0:00:08\n",
      "   ----------------------------- ---------- 23.9/32.9 MB 1.2 MB/s eta 0:00:08\n",
      "   ----------------------------- ---------- 24.0/32.9 MB 1.2 MB/s eta 0:00:08\n",
      "   ----------------------------- ---------- 24.0/32.9 MB 1.2 MB/s eta 0:00:08\n",
      "   ----------------------------- ---------- 24.0/32.9 MB 1.2 MB/s eta 0:00:08\n",
      "   ----------------------------- ---------- 24.1/32.9 MB 1.1 MB/s eta 0:00:08\n",
      "   ----------------------------- ---------- 24.1/32.9 MB 1.1 MB/s eta 0:00:08\n",
      "   ----------------------------- ---------- 24.1/32.9 MB 1.1 MB/s eta 0:00:08\n",
      "   ----------------------------- ---------- 24.2/32.9 MB 1.1 MB/s eta 0:00:08\n",
      "   ----------------------------- ---------- 24.2/32.9 MB 1.1 MB/s eta 0:00:08\n",
      "   ----------------------------- ---------- 24.2/32.9 MB 1.1 MB/s eta 0:00:08\n",
      "   ----------------------------- ---------- 24.3/32.9 MB 1.1 MB/s eta 0:00:08\n",
      "   ----------------------------- ---------- 24.3/32.9 MB 1.1 MB/s eta 0:00:08\n",
      "   ----------------------------- ---------- 24.3/32.9 MB 1.1 MB/s eta 0:00:08\n",
      "   ----------------------------- ---------- 24.4/32.9 MB 1.1 MB/s eta 0:00:08\n",
      "   ----------------------------- ---------- 24.5/32.9 MB 1.1 MB/s eta 0:00:08\n",
      "   ----------------------------- ---------- 24.5/32.9 MB 1.1 MB/s eta 0:00:08\n",
      "   ----------------------------- ---------- 24.5/32.9 MB 1.1 MB/s eta 0:00:08\n",
      "   ----------------------------- ---------- 24.6/32.9 MB 1.1 MB/s eta 0:00:08\n",
      "   ----------------------------- ---------- 24.6/32.9 MB 1.1 MB/s eta 0:00:08\n",
      "   ------------------------------ --------- 24.7/32.9 MB 1.1 MB/s eta 0:00:08\n",
      "   ------------------------------ --------- 24.7/32.9 MB 1.1 MB/s eta 0:00:08\n",
      "   ------------------------------ --------- 24.7/32.9 MB 1.1 MB/s eta 0:00:08\n",
      "   ------------------------------ --------- 24.8/32.9 MB 1.1 MB/s eta 0:00:08\n",
      "   ------------------------------ --------- 24.9/32.9 MB 1.1 MB/s eta 0:00:08\n",
      "   ------------------------------ --------- 24.9/32.9 MB 1.1 MB/s eta 0:00:08\n",
      "   ------------------------------ --------- 25.0/32.9 MB 1.1 MB/s eta 0:00:08\n",
      "   ------------------------------ --------- 25.0/32.9 MB 1.1 MB/s eta 0:00:08\n",
      "   ------------------------------ --------- 25.1/32.9 MB 1.1 MB/s eta 0:00:08\n",
      "   ------------------------------ --------- 25.2/32.9 MB 1.1 MB/s eta 0:00:08\n",
      "   ------------------------------ --------- 25.2/32.9 MB 1.1 MB/s eta 0:00:08\n",
      "   ------------------------------ --------- 25.2/32.9 MB 1.1 MB/s eta 0:00:08\n",
      "   ------------------------------ --------- 25.3/32.9 MB 1.1 MB/s eta 0:00:07\n",
      "   ------------------------------ --------- 25.4/32.9 MB 1.1 MB/s eta 0:00:07\n",
      "   ------------------------------ --------- 25.4/32.9 MB 1.1 MB/s eta 0:00:07\n",
      "   ------------------------------- -------- 25.5/32.9 MB 1.1 MB/s eta 0:00:07\n",
      "   ------------------------------- -------- 25.6/32.9 MB 1.1 MB/s eta 0:00:07\n",
      "   ------------------------------- -------- 25.6/32.9 MB 1.1 MB/s eta 0:00:07\n",
      "   ------------------------------- -------- 25.7/32.9 MB 1.1 MB/s eta 0:00:07\n",
      "   ------------------------------- -------- 25.7/32.9 MB 1.1 MB/s eta 0:00:07\n",
      "   ------------------------------- -------- 25.7/32.9 MB 1.1 MB/s eta 0:00:07\n",
      "   ------------------------------- -------- 25.8/32.9 MB 1.1 MB/s eta 0:00:07\n",
      "   ------------------------------- -------- 25.8/32.9 MB 1.1 MB/s eta 0:00:07\n",
      "   ------------------------------- -------- 25.9/32.9 MB 1.1 MB/s eta 0:00:07\n",
      "   ------------------------------- -------- 25.9/32.9 MB 1.1 MB/s eta 0:00:07\n",
      "   ------------------------------- -------- 25.9/32.9 MB 1.1 MB/s eta 0:00:07\n",
      "   ------------------------------- -------- 26.0/32.9 MB 1.1 MB/s eta 0:00:07\n",
      "   ------------------------------- -------- 26.0/32.9 MB 1.1 MB/s eta 0:00:07\n",
      "   ------------------------------- -------- 26.0/32.9 MB 1.1 MB/s eta 0:00:07\n",
      "   ------------------------------- -------- 26.1/32.9 MB 1.1 MB/s eta 0:00:07\n",
      "   ------------------------------- -------- 26.1/32.9 MB 1.1 MB/s eta 0:00:07\n",
      "   ------------------------------- -------- 26.1/32.9 MB 1.1 MB/s eta 0:00:07\n",
      "   ------------------------------- -------- 26.2/32.9 MB 1.1 MB/s eta 0:00:07\n",
      "   ------------------------------- -------- 26.2/32.9 MB 1.1 MB/s eta 0:00:07\n",
      "   -------------------------------- ------- 26.3/32.9 MB 1.0 MB/s eta 0:00:07\n",
      "   -------------------------------- ------- 26.4/32.9 MB 1.0 MB/s eta 0:00:07\n",
      "   -------------------------------- ------- 26.4/32.9 MB 1.0 MB/s eta 0:00:07\n",
      "   -------------------------------- ------- 26.4/32.9 MB 1.0 MB/s eta 0:00:07\n",
      "   -------------------------------- ------- 26.5/32.9 MB 1.0 MB/s eta 0:00:07\n",
      "   -------------------------------- ------- 26.5/32.9 MB 1.0 MB/s eta 0:00:07\n",
      "   -------------------------------- ------- 26.6/32.9 MB 1.0 MB/s eta 0:00:07\n",
      "   -------------------------------- ------- 26.6/32.9 MB 1.0 MB/s eta 0:00:07\n",
      "   -------------------------------- ------- 26.6/32.9 MB 1.0 MB/s eta 0:00:07\n",
      "   -------------------------------- ------- 26.7/32.9 MB 1.0 MB/s eta 0:00:06\n",
      "   -------------------------------- ------- 26.7/32.9 MB 1.0 MB/s eta 0:00:06\n",
      "   -------------------------------- ------- 26.8/32.9 MB 1.0 MB/s eta 0:00:06\n",
      "   -------------------------------- ------- 26.8/32.9 MB 1.0 MB/s eta 0:00:06\n",
      "   -------------------------------- ------- 26.8/32.9 MB 1.0 MB/s eta 0:00:06\n",
      "   -------------------------------- ------- 26.9/32.9 MB 1.0 MB/s eta 0:00:06\n",
      "   -------------------------------- ------- 26.9/32.9 MB 1.0 MB/s eta 0:00:06\n",
      "   -------------------------------- ------- 27.0/32.9 MB 1.0 MB/s eta 0:00:06\n",
      "   -------------------------------- ------- 27.0/32.9 MB 1.0 MB/s eta 0:00:06\n",
      "   -------------------------------- ------- 27.1/32.9 MB 1.0 MB/s eta 0:00:06\n",
      "   --------------------------------- ------ 27.1/32.9 MB 1.0 MB/s eta 0:00:06\n",
      "   --------------------------------- ------ 27.2/32.9 MB 1.0 MB/s eta 0:00:06\n",
      "   --------------------------------- ------ 27.2/32.9 MB 1.0 MB/s eta 0:00:06\n",
      "   --------------------------------- ------ 27.3/32.9 MB 1.0 MB/s eta 0:00:06\n",
      "   --------------------------------- ------ 27.4/32.9 MB 1.0 MB/s eta 0:00:06\n",
      "   --------------------------------- ------ 27.5/32.9 MB 1.0 MB/s eta 0:00:06\n",
      "   --------------------------------- ------ 27.5/32.9 MB 1.0 MB/s eta 0:00:06\n",
      "   --------------------------------- ------ 27.6/32.9 MB 1.0 MB/s eta 0:00:06\n",
      "   --------------------------------- ------ 27.6/32.9 MB 1.0 MB/s eta 0:00:06\n",
      "   --------------------------------- ------ 27.7/32.9 MB 1.0 MB/s eta 0:00:06\n",
      "   --------------------------------- ------ 27.8/32.9 MB 1.0 MB/s eta 0:00:06\n",
      "   --------------------------------- ------ 27.8/32.9 MB 1.0 MB/s eta 0:00:05\n",
      "   --------------------------------- ------ 27.9/32.9 MB 1.0 MB/s eta 0:00:05\n",
      "   ---------------------------------- ----- 28.0/32.9 MB 1.0 MB/s eta 0:00:05\n",
      "   ---------------------------------- ----- 28.0/32.9 MB 1.0 MB/s eta 0:00:05\n",
      "   ---------------------------------- ----- 28.1/32.9 MB 1.0 MB/s eta 0:00:05\n",
      "   ---------------------------------- ----- 28.1/32.9 MB 1.0 MB/s eta 0:00:05\n",
      "   ---------------------------------- ----- 28.2/32.9 MB 1.0 MB/s eta 0:00:05\n",
      "   ---------------------------------- ----- 28.2/32.9 MB 1.0 MB/s eta 0:00:05\n",
      "   ---------------------------------- ----- 28.3/32.9 MB 1.0 MB/s eta 0:00:05\n",
      "   ---------------------------------- ----- 28.3/32.9 MB 1.0 MB/s eta 0:00:05\n",
      "   ---------------------------------- ----- 28.4/32.9 MB 1.0 MB/s eta 0:00:05\n",
      "   ---------------------------------- ----- 28.4/32.9 MB 1.0 MB/s eta 0:00:05\n",
      "   ---------------------------------- ----- 28.5/32.9 MB 999.6 kB/s eta 0:00:05\n",
      "   ---------------------------------- ----- 28.5/32.9 MB 998.0 kB/s eta 0:00:05\n",
      "   ---------------------------------- ----- 28.6/32.9 MB 998.0 kB/s eta 0:00:05\n",
      "   ---------------------------------- ----- 28.6/32.9 MB 996.5 kB/s eta 0:00:05\n",
      "   ---------------------------------- ----- 28.7/32.9 MB 996.5 kB/s eta 0:00:05\n",
      "   ----------------------------------- ---- 28.8/32.9 MB 995.0 kB/s eta 0:00:05\n",
      "   ----------------------------------- ---- 28.9/32.9 MB 994.9 kB/s eta 0:00:05\n",
      "   ----------------------------------- ---- 28.9/32.9 MB 990.5 kB/s eta 0:00:04\n",
      "   ----------------------------------- ---- 29.0/32.9 MB 990.5 kB/s eta 0:00:04\n",
      "   ----------------------------------- ---- 29.0/32.9 MB 991.9 kB/s eta 0:00:04\n",
      "   ----------------------------------- ---- 29.1/32.9 MB 993.5 kB/s eta 0:00:04\n",
      "   ----------------------------------- ---- 29.2/32.9 MB 993.5 kB/s eta 0:00:04\n",
      "   ----------------------------------- ---- 29.2/32.9 MB 993.5 kB/s eta 0:00:04\n",
      "   ----------------------------------- ---- 29.3/32.9 MB 993.5 kB/s eta 0:00:04\n",
      "   ----------------------------------- ---- 29.4/32.9 MB 999.5 kB/s eta 0:00:04\n",
      "   ----------------------------------- ---- 29.5/32.9 MB 1.0 MB/s eta 0:00:04\n",
      "   ----------------------------------- ---- 29.5/32.9 MB 999.6 kB/s eta 0:00:04\n",
      "   ------------------------------------ --- 29.6/32.9 MB 998.0 kB/s eta 0:00:04\n",
      "   ------------------------------------ --- 29.6/32.9 MB 999.5 kB/s eta 0:00:04\n",
      "   ------------------------------------ --- 29.7/32.9 MB 998.0 kB/s eta 0:00:04\n",
      "   ------------------------------------ --- 29.8/32.9 MB 1.0 MB/s eta 0:00:04\n",
      "   ------------------------------------ --- 29.9/32.9 MB 999.6 kB/s eta 0:00:03\n",
      "   ------------------------------------ --- 29.9/32.9 MB 999.6 kB/s eta 0:00:03\n",
      "   ------------------------------------ --- 30.0/32.9 MB 1.0 MB/s eta 0:00:03\n",
      "   ------------------------------------ --- 30.1/32.9 MB 1.0 MB/s eta 0:00:03\n",
      "   ------------------------------------ --- 30.1/32.9 MB 999.5 kB/s eta 0:00:03\n",
      "   ------------------------------------ --- 30.2/32.9 MB 998.0 kB/s eta 0:00:03\n",
      "   ------------------------------------ --- 30.3/32.9 MB 996.5 kB/s eta 0:00:03\n",
      "   ------------------------------------ --- 30.4/32.9 MB 996.6 kB/s eta 0:00:03\n",
      "   ------------------------------------- -- 30.4/32.9 MB 996.6 kB/s eta 0:00:03\n",
      "   ------------------------------------- -- 30.5/32.9 MB 998.0 kB/s eta 0:00:03\n",
      "   ------------------------------------- -- 30.6/32.9 MB 995.0 kB/s eta 0:00:03\n",
      "   ------------------------------------- -- 30.6/32.9 MB 995.0 kB/s eta 0:00:03\n",
      "   ------------------------------------- -- 30.7/32.9 MB 995.0 kB/s eta 0:00:03\n",
      "   ------------------------------------- -- 30.8/32.9 MB 996.5 kB/s eta 0:00:03\n",
      "   ------------------------------------- -- 30.9/32.9 MB 998.0 kB/s eta 0:00:02\n",
      "   ------------------------------------- -- 31.0/32.9 MB 996.5 kB/s eta 0:00:02\n",
      "   ------------------------------------- -- 31.0/32.9 MB 998.0 kB/s eta 0:00:02\n",
      "   ------------------------------------- -- 31.1/32.9 MB 1.0 MB/s eta 0:00:02\n",
      "   ------------------------------------- -- 31.2/32.9 MB 1.0 MB/s eta 0:00:02\n",
      "   -------------------------------------- - 31.3/32.9 MB 1.0 MB/s eta 0:00:02\n",
      "   -------------------------------------- - 31.4/32.9 MB 1.0 MB/s eta 0:00:02\n",
      "   -------------------------------------- - 31.5/32.9 MB 1.0 MB/s eta 0:00:02\n",
      "   -------------------------------------- - 31.5/32.9 MB 1.0 MB/s eta 0:00:02\n",
      "   -------------------------------------- - 31.6/32.9 MB 1.0 MB/s eta 0:00:02\n",
      "   -------------------------------------- - 31.7/32.9 MB 1.0 MB/s eta 0:00:02\n",
      "   -------------------------------------- - 31.8/32.9 MB 1.0 MB/s eta 0:00:02\n",
      "   -------------------------------------- - 31.9/32.9 MB 1.0 MB/s eta 0:00:01\n",
      "   -------------------------------------- - 31.9/32.9 MB 1.0 MB/s eta 0:00:01\n",
      "   -------------------------------------- - 32.0/32.9 MB 1.0 MB/s eta 0:00:01\n",
      "   ---------------------------------------  32.1/32.9 MB 1.0 MB/s eta 0:00:01\n",
      "   ---------------------------------------  32.2/32.9 MB 1.0 MB/s eta 0:00:01\n",
      "   ---------------------------------------  32.2/32.9 MB 1.0 MB/s eta 0:00:01\n",
      "   ---------------------------------------  32.3/32.9 MB 1.1 MB/s eta 0:00:01\n",
      "   ---------------------------------------  32.4/32.9 MB 1.1 MB/s eta 0:00:01\n",
      "   ---------------------------------------  32.5/32.9 MB 1.1 MB/s eta 0:00:01\n",
      "   ---------------------------------------  32.5/32.9 MB 1.1 MB/s eta 0:00:01\n",
      "   ---------------------------------------  32.6/32.9 MB 1.1 MB/s eta 0:00:01\n",
      "   ---------------------------------------  32.6/32.9 MB 1.1 MB/s eta 0:00:01\n",
      "   ---------------------------------------  32.6/32.9 MB 1.1 MB/s eta 0:00:01\n",
      "   ---------------------------------------  32.6/32.9 MB 1.1 MB/s eta 0:00:01\n",
      "   ---------------------------------------  32.8/32.9 MB 1.1 MB/s eta 0:00:01\n",
      "   ---------------------------------------  32.8/32.9 MB 1.1 MB/s eta 0:00:01\n",
      "   ---------------------------------------  32.8/32.9 MB 1.1 MB/s eta 0:00:01\n",
      "   ---------------------------------------- 32.9/32.9 MB 1.1 MB/s eta 0:00:00\n",
      "Installing collected packages: SpeechRecognition\n",
      "Successfully installed SpeechRecognition-3.14.1\n"
     ]
    },
    {
     "name": "stderr",
     "output_type": "stream",
     "text": [
      "DEPRECATION: Loading egg at c:\\programdata\\anaconda3\\lib\\site-packages\\vboxapi-1.0-py3.11.egg is deprecated. pip 24.3 will enforce this behaviour change. A possible replacement is to use pip for package installation.. Discussion can be found at https://github.com/pypa/pip/issues/12330\n"
     ]
    }
   ],
   "source": [
    "!pip install SpeechRecognition"
   ]
  },
  {
   "cell_type": "code",
   "execution_count": 3,
   "id": "54df4864-94b9-4380-b758-5da82c37b81c",
   "metadata": {},
   "outputs": [
    {
     "name": "stdout",
     "output_type": "stream",
     "text": [
      "Defaulting to user installation because normal site-packages is not writeable\n",
      "Collecting PyAudio\n",
      "  Downloading PyAudio-0.2.14-cp311-cp311-win_amd64.whl.metadata (2.7 kB)\n",
      "Downloading PyAudio-0.2.14-cp311-cp311-win_amd64.whl (164 kB)\n",
      "   ---------------------------------------- 0.0/164.1 kB ? eta -:--:--\n",
      "   -- ------------------------------------- 10.2/164.1 kB ? eta -:--:--\n",
      "   --------- ----------------------------- 41.0/164.1 kB 495.5 kB/s eta 0:00:01\n",
      "   -------------------------- ----------- 112.6/164.1 kB 939.4 kB/s eta 0:00:01\n",
      "   -------------------------------------- 164.1/164.1 kB 986.1 kB/s eta 0:00:00\n",
      "Installing collected packages: PyAudio\n",
      "Successfully installed PyAudio-0.2.14\n"
     ]
    },
    {
     "name": "stderr",
     "output_type": "stream",
     "text": [
      "DEPRECATION: Loading egg at c:\\programdata\\anaconda3\\lib\\site-packages\\vboxapi-1.0-py3.11.egg is deprecated. pip 24.3 will enforce this behaviour change. A possible replacement is to use pip for package installation.. Discussion can be found at https://github.com/pypa/pip/issues/12330\n"
     ]
    }
   ],
   "source": [
    "!pip install PyAudio"
   ]
  },
  {
   "cell_type": "code",
   "execution_count": 4,
   "id": "b7cd238b-ded5-4319-873c-33bc4d2937dd",
   "metadata": {},
   "outputs": [
    {
     "name": "stdout",
     "output_type": "stream",
     "text": [
      "Please say something\n"
     ]
    }
   ],
   "source": [
    "import speech_recognition as sr\n",
    "r=sr.Recognizer()\n",
    "with sr.Microphone() as source:\n",
    "    print(\"Please say something\")\n",
    "    audio = r.listen(source)\n",
    "try:\n",
    "    print(\"I think you said: \"+r.recognize_google(audio));\n",
    "except:\n",
    "    pass"
   ]
  },
  {
   "cell_type": "code",
   "execution_count": null,
   "id": "8171f31c-e8e6-452a-86ed-3ca5f8a4b852",
   "metadata": {},
   "outputs": [],
   "source": []
  }
 ],
 "metadata": {
  "kernelspec": {
   "display_name": "Python 3 (ipykernel)",
   "language": "python",
   "name": "python3"
  },
  "language_info": {
   "codemirror_mode": {
    "name": "ipython",
    "version": 3
   },
   "file_extension": ".py",
   "mimetype": "text/x-python",
   "name": "python",
   "nbconvert_exporter": "python",
   "pygments_lexer": "ipython3",
   "version": "3.11.7"
  }
 },
 "nbformat": 4,
 "nbformat_minor": 5
}
