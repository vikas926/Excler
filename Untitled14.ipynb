{
  "nbformat": 4,
  "nbformat_minor": 0,
  "metadata": {
    "colab": {
      "provenance": [],
      "authorship_tag": "ABX9TyND52FL6/i24XGsW2GRmjeS",
      "include_colab_link": true
    },
    "kernelspec": {
      "name": "python3",
      "display_name": "Python 3"
    },
    "language_info": {
      "name": "python"
    }
  },
  "cells": [
    {
      "cell_type": "markdown",
      "metadata": {
        "id": "view-in-github",
        "colab_type": "text"
      },
      "source": [
        "<a href=\"https://colab.research.google.com/github/vikas926/Excler/blob/main/Untitled14.ipynb\" target=\"_parent\"><img src=\"https://colab.research.google.com/assets/colab-badge.svg\" alt=\"Open In Colab\"/></a>"
      ]
    },
    {
      "cell_type": "code",
      "source": [
        "import google.generativeai as genai\n",
        "from google.colab import userdata\n",
        "GOOGLE_API_KEY=userdata.get('GOOGLE_API_KEY')\n",
        "genai.configure(api_key=GOOGLE_API_KEY)"
      ],
      "metadata": {
        "id": "VIgYDIFQ9Zlt"
      },
      "execution_count": 1,
      "outputs": []
    },
    {
      "cell_type": "code",
      "source": [
        "import pathlib\n",
        "import textwrap\n",
        "from IPython.display import display, Markdown\n",
        "def to_markdown(text):\n",
        "  text = text.replace('•', '  *')\n",
        "  return Markdown(textwrap.indent(text, '> ', predicate=lambda _: True))"
      ],
      "metadata": {
        "id": "B3a-PvzS91XH"
      },
      "execution_count": 2,
      "outputs": []
    },
    {
      "cell_type": "code",
      "source": [
        "import PIL.Image\n",
        "img = PIL.Image.open('/content/image1.jpg')\n",
        "img\n",
        "model = genai.GenerativeModel('gemini-1.5-flash')\n",
        "response = model.generate_content([\"Write a short, engaging blog post based on this picture.It should include a description of the meal in the photo and talk about my journey meal prepping.\", img],\n",
        "stream=True)\n",
        "response.resolve()"
      ],
      "metadata": {
        "id": "Au2hW9N2_El7"
      },
      "execution_count": 5,
      "outputs": []
    },
    {
      "cell_type": "code",
      "source": [
        "to_markdown(response.text)"
      ],
      "metadata": {
        "colab": {
          "base_uri": "https://localhost:8080/",
          "height": 451
        },
        "id": "f5Sz1Q0E-8ch",
        "outputId": "82292f93-4729-4480-9b5c-438debb12a14"
      },
      "execution_count": 6,
      "outputs": [
        {
          "output_type": "execute_result",
          "data": {
            "text/plain": [
              "<IPython.core.display.Markdown object>"
            ],
            "text/markdown": "> ## My Meal Prep Journey: From Chaos to Deliciousness!\n> \n> Look at these beauties!  These aren't just any lunch containers; they're my ticket to a healthy and delicious week.  Each one is packed with a perfectly portioned meal of teriyaki chicken, fluffy white rice, vibrant roasted carrots and peppers, and a generous helping of broccoli.  Seriously, the colors alone make me happy!\n> \n> My meal prep journey hasn't always been this picture-perfect, though.  For years, I was that person who grabbed whatever was quickest (and often least healthy) for lunch.  My days were filled with impulsive takeout choices and a constant afternoon slump.  Honestly, it was exhausting!\n> \n> But then I decided enough was enough.  I started small, prepping just one meal a week.  It was a learning curve— figuring out portion sizes, finding recipes I actually enjoyed, and learning to time-manage the cooking process.  There were definitely a few \"experiments\" that didn't quite hit the mark, let's just say that!\n> \n> Now, I've got a system. I dedicate a couple of hours on the weekend to prepping these tasty, balanced meals.  The benefits are huge!  I'm saving money, eating healthier, and consistently having satisfying lunches that fuel my afternoons.  The extra time I used to spend on deciding what to eat is now available to spend on other things.\n> \n> If you're thinking about starting your own meal prep journey, don't be intimidated.  Begin slowly, find recipes that excite you, and don't be afraid to experiment.  Trust me, the feeling of opening your fridge to a week's worth of delicious and healthy meals is incredibly rewarding! What are your favorite meal prep tips? Let me know in the comments!\n"
          },
          "metadata": {},
          "execution_count": 6
        }
      ]
    },
    {
      "cell_type": "code",
      "source": [
        "response = model.generate_content([\"Generate an accurate caption for this image.\", img])\n",
        "print(response.text)"
      ],
      "metadata": {
        "colab": {
          "base_uri": "https://localhost:8080/",
          "height": 419
        },
        "id": "vdSz5eNkAurt",
        "outputId": "3c91c75b-05b5-4793-f67f-be625f66eb25"
      },
      "execution_count": 7,
      "outputs": [
        {
          "output_type": "stream",
          "name": "stdout",
          "text": [
            "Here are a few caption options for the image of two meal prep containers:\n",
            "\n",
            "**Option 1 (Simple & Descriptive):**\n",
            "\n",
            "> Healthy and delicious meal prep!  Chicken, broccoli, carrots, and rice make for a satisfying and balanced lunch or dinner.\n",
            "\n",
            "**Option 2 (More Engaging):**\n",
            "\n",
            "> Lunch goals! ✨  These easy-to-prepare meal prep containers are perfect for busy weeknights.  Who needs takeout when you have this?\n",
            "\n",
            "**Option 3 (Focus on Health):**\n",
            "\n",
            "> Fueling my body with goodness!  This chicken and veggie bowl is packed with protein and nutrients.  Meal prepping makes healthy eating so much easier.\n",
            "\n",
            "\n",
            "**Option 4 (Question to encourage engagement):**\n",
            "\n",
            "> What's your favorite healthy meal prep recipe?  This chicken and veggie bowl is definitely a top contender for me!\n",
            "\n",
            "\n",
            "Choose the caption that best suits your style and intended audience.\n",
            "\n"
          ]
        }
      ]
    },
    {
      "cell_type": "code",
      "source": [
        "from PIL import Image\n",
        "# Open an image\n",
        "image_path = \"girl.jpg\"\n",
        "image = Image.open('/content/girl.jpg')\n",
        "# Generate a description of the image\n",
        "response = model.generate_content([\"Describe this image in detail.\", image])\n",
        "print(response.text)"
      ],
      "metadata": {
        "colab": {
          "base_uri": "https://localhost:8080/",
          "height": 263
        },
        "id": "tiH4iHi3CJdA",
        "outputId": "e6241535-f3da-4bf2-aff2-422e08e3f60c"
      },
      "execution_count": 10,
      "outputs": [
        {
          "output_type": "stream",
          "name": "stdout",
          "text": [
            "Here's a description of the image:\n",
            "\n",
            "Close-up view of a woman with shoulder-length, curly dark brown hair. \n",
            "\n",
            "\n",
            "She is smiling and gesturing with her right index finger, pointing to something off-camera. Her expression is friendly and inviting. \n",
            "\n",
            "\n",
            "She's wearing a teal, three-quarter sleeve kurta or tunic with a subtle, gold-colored print. The fabric appears soft and somewhat loose-fitting. The neckline is a simple, modest V-neck style, possibly with a small button closure. \n",
            "\n",
            "\n",
            "The background is a plain, off-white or very light gray, which keeps the focus entirely on the woman. The lighting is even and soft, preventing harsh shadows on her face. The overall impression is a clean, bright, and approachable portrait.\n",
            "\n"
          ]
        }
      ]
    },
    {
      "cell_type": "code",
      "source": [
        "response = model.generate_content([\"What emotions can you detect in this image?\", image])\n",
        "print(response.text)"
      ],
      "metadata": {
        "colab": {
          "base_uri": "https://localhost:8080/",
          "height": 141
        },
        "id": "Kuvj1poAE4nJ",
        "outputId": "bf39b210-04b6-4b26-d7d4-a59ce72f0e9a"
      },
      "execution_count": 11,
      "outputs": [
        {
          "output_type": "stream",
          "name": "stdout",
          "text": [
            "The woman in the image appears to be expressing:\n",
            "\n",
            "* **Friendliness:** Her smile and gesture suggest a welcoming and approachable demeanor.\n",
            "* **Helpfulness:** The pointing gesture indicates a willingness to assist or guide.\n",
            "* **Confidence:** Her posture and direct gaze convey self-assurance.\n",
            "* **Happiness/Positivity:** Her smile and overall expression suggest a positive emotional state.\n"
          ]
        }
      ]
    },
    {
      "cell_type": "code",
      "source": [
        "import google.generativeai as genai\n",
        "from google.colab import userdata\n",
        "GOOGLE_API_KEY=userdata.get('GOOGLE_API_KEY')\n",
        "genai.configure(api_key=GOOGLE_API_KEY)"
      ],
      "metadata": {
        "id": "XQSlHjoWFvO4"
      },
      "execution_count": 12,
      "outputs": []
    },
    {
      "cell_type": "code",
      "source": [
        "import PIL.Image\n",
        "img = PIL.Image.open('/content/logo1.jpg')\n",
        "model = genai.GenerativeModel('gemini-1.5-flash')"
      ],
      "metadata": {
        "id": "GXGaHJDYr3Ot"
      },
      "execution_count": 20,
      "outputs": []
    },
    {
      "cell_type": "code",
      "source": [
        "import google.generativeai as genai\n",
        "from google.colab import userdata\n",
        "GOOGLE_API_KEY=userdata.get('GOOGLE_API_KEY')\n",
        "genai.configure(api_key=GOOGLE_API_KEY)"
      ],
      "metadata": {
        "id": "qGg54KA8sA_r"
      },
      "execution_count": 14,
      "outputs": []
    },
    {
      "cell_type": "code",
      "source": [
        "import PIL.Image\n",
        "img = PIL.Image.open('/content/logo1.jpg')\n",
        "img\n",
        "model = genai.GenerativeModel('gemini-1.5-flash')"
      ],
      "metadata": {
        "id": "mdEAVDr4sD-X"
      },
      "execution_count": 21,
      "outputs": []
    },
    {
      "cell_type": "code",
      "source": [
        "image_path = \"product.jpg\"\n",
        "image = Image.open('/content/logo1.jpg')\n",
        "response = model.generate_content([\"What product is shown in this image?\", image])\n",
        "print(response.text)"
      ],
      "metadata": {
        "colab": {
          "base_uri": "https://localhost:8080/",
          "height": 72
        },
        "id": "1vnYnZ2IuJIZ",
        "outputId": "bc551c82-3112-4f3e-b695-30b90669a3a3"
      },
      "execution_count": 22,
      "outputs": [
        {
          "output_type": "stream",
          "name": "stdout",
          "text": [
            "That's the logo for **Amazon**.  Amazon is a multinational technology company that focuses on e-commerce, digital streaming, cloud computing, and artificial intelligence.\n",
            "\n"
          ]
        }
      ]
    },
    {
      "cell_type": "code",
      "source": [
        "image_path = \"product.jpg\"\n",
        "image = Image.open('/content/product.jpg')\n",
        "response = model.generate_content([\"What product is shown in this image?\", image])\n",
        "print(response.text)"
      ],
      "metadata": {
        "colab": {
          "base_uri": "https://localhost:8080/",
          "height": 34
        },
        "id": "c0UXOZi_sJfN",
        "outputId": "524b771a-9d4a-4bde-9ca8-43eb7cb9a3a7"
      },
      "execution_count": 23,
      "outputs": [
        {
          "output_type": "stream",
          "name": "stdout",
          "text": [
            "That's a pair of black over-ear headphones.\n"
          ]
        }
      ]
    },
    {
      "cell_type": "code",
      "source": [
        "response = model.generate_content([\"Suggest similar products to this one.\", image])\n",
        "print(response.text)"
      ],
      "metadata": {
        "colab": {
          "base_uri": "https://localhost:8080/",
          "height": 384
        },
        "id": "eoMkNgiBtHmY",
        "outputId": "cf06512d-aea2-4a80-d8ac-9724a5596669"
      },
      "execution_count": 24,
      "outputs": [
        {
          "output_type": "stream",
          "name": "stdout",
          "text": [
            "Here are some similar product suggestions based on the image of the black over-ear headphones:\n",
            "\n",
            "**Focusing on Style and Features:**\n",
            "\n",
            "* **Other black over-ear headphones:**  Look for headphones with a similar sleek, matte black finish and a similar headband style.  Brands like Sony, Bose, Sennheiser, Audio-Technica, and AKG all offer various models in this style.  Search for terms like \"over-ear headphones,\" \"closed-back headphones\" (if that's the style), \"noise-canceling headphones\" (if that's a desired feature),  and \"wireless headphones\" (depending on connectivity).\n",
            "* **Headphones with similar earcup design:** The earcups in the image appear to be fairly large and round/oval.  Specifying this shape in your search will help narrow down results.\n",
            "* **Headphones with a padded headband:** Comfort is key.  Ensure the replacement headphones have a well-padded headband similar to the one shown.\n",
            "\n",
            "\n",
            "**Expanding the Search (Considering other factors):**\n",
            "\n",
            "* **Budget:** Specify a price range when searching.  Headphones vary greatly in price.\n",
            "* **Noise cancellation:**  If noise-canceling is important, specifically search for \"noise-canceling over-ear headphones.\"\n",
            "* **Wireless vs. wired:**  The image doesn't clearly show the connection type. Choose between wireless (Bluetooth) or wired options based on preference.\n",
            "* **Sound quality:** Read reviews before purchasing to get an idea of the sound quality of different models.  Features like frequency response and impedance are technical specifications to consider if you're an audiophile.\n",
            "* **Brand preference:** Some people prefer specific brands based on past experiences.\n",
            "\n",
            "\n",
            "To find the best similar product, I recommend visiting major online retailers like Amazon, Best Buy, or directly visiting the websites of headphone manufacturers.  Use the terms and features mentioned above to refine your search.\n",
            "\n"
          ]
        }
      ]
    },
    {
      "cell_type": "code",
      "source": [
        "# Open an image containing a price\n",
        "image_path = \"invoice.jpg\"  # Change to your image file\n",
        "image = Image.open('/content/invoice.jpg')\n",
        "# Ask Gemini AI to extract the price\n",
        "response = model.generate_content([\"Extract the price from this image.\", image])\n",
        "print(response.text)"
      ],
      "metadata": {
        "colab": {
          "base_uri": "https://localhost:8080/",
          "height": 34
        },
        "id": "HMXjz6eku4is",
        "outputId": "687142ca-f633-4fd3-a613-8d997225093d"
      },
      "execution_count": 27,
      "outputs": [
        {
          "output_type": "stream",
          "name": "stdout",
          "text": [
            "The price is $100.00.\n"
          ]
        }
      ]
    },
    {
      "cell_type": "code",
      "source": [
        "response = model.generate_content([\"Extract the price, currency, and any discounts from this image.\", image])\n",
        "print(response.text)"
      ],
      "metadata": {
        "colab": {
          "base_uri": "https://localhost:8080/",
          "height": 124
        },
        "id": "ldz6GsBSvARW",
        "outputId": "b7f3474d-db32-4986-8d07-942817fcd82d"
      },
      "execution_count": 28,
      "outputs": [
        {
          "output_type": "stream",
          "name": "stdout",
          "text": [
            "Here's the extracted information from the provided image:\n",
            "\n",
            "* **Price:** $10.00 (per item)\n",
            "* **Currency:** USD ($)\n",
            "* **Discounts:** None explicitly stated.  While the Grand Total is the same as the Subtotal, there is a 10% tax listed, meaning there is no discount applied to the items themselves.\n"
          ]
        }
      ]
    },
    {
      "cell_type": "code",
      "source": [
        "# Open an image for object recognition\n",
        "image_path = \"bicycle.jpg\"  # Change to your image file\n",
        "image = Image.open('/content/bicycle.jpg')\n",
        "# Ask Gemini AI to identify objects in the image\n",
        "response = model.generate_content([\"Identify all objects present in this image.\", image])\n",
        "print(response.text)"
      ],
      "metadata": {
        "colab": {
          "base_uri": "https://localhost:8080/",
          "height": 211
        },
        "id": "H5yQvlEHwW82",
        "outputId": "06a8c904-bc3b-410d-ba56-8557c4c4d183"
      },
      "execution_count": 29,
      "outputs": [
        {
          "output_type": "stream",
          "name": "stdout",
          "text": [
            "Here's a list of the objects present in the image:\n",
            "\n",
            "* **Two bicycles:** One is predominantly yellow and black, the other white.  Both appear to be adult-sized hybrid or city bikes.\n",
            "* **Two men:**  Both are riding the bicycles. One wears a blue shirt and camouflage shorts; the other wears a grey long-sleeved shirt, jeans, and a red cap.\n",
            "* **A man in the background:**  He is seated inside a building, appearing to be an observer. He is wearing a light-colored shirt.\n",
            "* **A motorcycle:** Parked to the left of the frame.\n",
            "* **A building:** The scene takes place in front of a building with a roller shutter door, windows, and a visible portion of an interior.\n",
            "* **Chairs:** Two plastic chairs are visible inside the building.\n",
            "* **Street:** A wet street or road forms the foreground.\n",
            "* **Vegetation:** Some grass or weeds grow along the edge of the street.\n"
          ]
        }
      ]
    },
    {
      "cell_type": "code",
      "source": [
        "# Open an image for object recognition\n",
        "image_path = \"bicycle.jpg\"  # Change to your image file\n",
        "image = Image.open('/content/lorry.jpg')\n",
        "# Ask Gemini AI to identify objects in the image\n",
        "response = model.generate_content([\"Identify all objects present in this image.\", image])\n",
        "print(response.text)"
      ],
      "metadata": {
        "colab": {
          "base_uri": "https://localhost:8080/",
          "height": 52
        },
        "id": "rR9l7vkGxTyM",
        "outputId": "7c51a8d3-7759-4365-9f1f-ef3ff54c50b8"
      },
      "execution_count": 31,
      "outputs": [
        {
          "output_type": "stream",
          "name": "stdout",
          "text": [
            "That's an image of a single object: a **BharatBenz 1926 dump truck**.\n",
            "\n"
          ]
        }
      ]
    },
    {
      "cell_type": "code",
      "source": [
        "# Open an image for object recognition\n",
        "image_path = \"bicycle.jpg\"  # Change to your image file\n",
        "image = Image.open('/content/buffalo.jpg')\n",
        "# Ask Gemini AI to identify objects in the image\n",
        "response = model.generate_content([\"Identify all objects present in this image.\", image])\n",
        "print(response.text)"
      ],
      "metadata": {
        "colab": {
          "base_uri": "https://localhost:8080/",
          "height": 228
        },
        "id": "a7twsuM3xw22",
        "outputId": "d692ebb8-3422-4a44-c6fa-098a3d683ea7"
      },
      "execution_count": 32,
      "outputs": [
        {
          "output_type": "stream",
          "name": "stdout",
          "text": [
            "That's a picture of a black water buffalo.  More specifically, it appears to be a Murrah buffalo, a breed known for its high milk yield.\n",
            "\n",
            "Beyond the buffalo itself, the image shows:\n",
            "\n",
            "* **Ground:** Sandy or dirt ground.\n",
            "* **Rope/Harness:** A rope or harness is around the buffalo's head and neck.\n",
            "* **Background:**  A backdrop suggesting an outdoor event or agricultural show. There are tents or canopies with red and gold fabric visible.  Parts of other objects and people are slightly visible in the background but are too indistinct to identify specifically.\n",
            "\n",
            "\n",
            "Therefore, the main objects are the water buffalo, the harness, and the ground.  The background elements are less defined.\n",
            "\n"
          ]
        }
      ]
    },
    {
      "cell_type": "code",
      "source": [],
      "metadata": {
        "id": "HwpSmXfW1fh9"
      },
      "execution_count": null,
      "outputs": []
    }
  ]
}