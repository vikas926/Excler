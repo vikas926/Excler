{
  "nbformat": 4,
  "nbformat_minor": 0,
  "metadata": {
    "colab": {
      "provenance": [],
      "authorship_tag": "ABX9TyPMxEU4znWL7CUFq4u/MpBd",
      "include_colab_link": true
    },
    "kernelspec": {
      "name": "python3",
      "display_name": "Python 3"
    },
    "language_info": {
      "name": "python"
    }
  },
  "cells": [
    {
      "cell_type": "markdown",
      "metadata": {
        "id": "view-in-github",
        "colab_type": "text"
      },
      "source": [
        "<a href=\"https://colab.research.google.com/github/vikas926/Excler/blob/main/Untitled14.ipynb\" target=\"_parent\"><img src=\"https://colab.research.google.com/assets/colab-badge.svg\" alt=\"Open In Colab\"/></a>"
      ]
    },
    {
      "cell_type": "code",
      "source": [
        "import google.generativeai as genai\n",
        "from google.colab import userdata\n",
        "GOOGLE_API_KEY=userdata.get('GOOGLE_API_KEY')\n",
        "genai.configure(api_key=GOOGLE_API_KEY)"
      ],
      "metadata": {
        "id": "VIgYDIFQ9Zlt"
      },
      "execution_count": 16,
      "outputs": []
    },
    {
      "cell_type": "code",
      "source": [
        "import pathlib\n",
        "import textwrap\n",
        "from IPython.display import display, Markdown\n",
        "def to_markdown(text):\n",
        "  text = text.replace('•', '  *')\n",
        "  return Markdown(textwrap.indent(text, '> ', predicate=lambda _: True))"
      ],
      "metadata": {
        "id": "B3a-PvzS91XH"
      },
      "execution_count": 22,
      "outputs": []
    },
    {
      "cell_type": "code",
      "source": [
        "import PIL.Image\n",
        "img = PIL.Image.open('/content/image1.jpg')\n",
        "img\n",
        "model = genai.GenerativeModel('gemini-1.5-flash')\n",
        "response = model.generate_content([\"Write a short, engaging blog post based on this picture.It should include a description of the meal in the photo and talk about my journey meal prepping.\", img],\n",
        "stream=True)\n",
        "response.resolve()"
      ],
      "metadata": {
        "id": "Au2hW9N2_El7"
      },
      "execution_count": 34,
      "outputs": []
    },
    {
      "cell_type": "code",
      "source": [
        "to_markdown(response.text)"
      ],
      "metadata": {
        "colab": {
          "base_uri": "https://localhost:8080/",
          "height": 330
        },
        "id": "f5Sz1Q0E-8ch",
        "outputId": "3a332410-c281-4791-a4e1-afd1a48f741e"
      },
      "execution_count": 35,
      "outputs": [
        {
          "output_type": "execute_result",
          "data": {
            "text/plain": [
              "<IPython.core.display.Markdown object>"
            ],
            "text/markdown": "> ## My Meal Prep Journey: From Chaos to Calm (and Delicious!)\n> \n> Let's be honest, meal prepping isn't always glamorous.  There are nights of chopping vegetables until your fingers ache and the occasional disastrous attempt at a new recipe. But the payoff?  Absolutely worth it!  The photo above showcases my latest triumph: two perfectly portioned containers of delicious teriyaki chicken and veggies over fluffy rice.\n> \n> \n> Each container is a mini-feast of its own. Tender teriyaki chicken, vibrant orange and red bell peppers, healthy broccoli florets, and a generous helping of fluffy white rice.  It's a balanced meal that's both satisfying and easy to grab-and-go during a busy week.\n> \n> \n> My meal prep journey started out pretty rocky.  Initially, I’d spend hours in the kitchen, only to end up with meals that looked sad and tasted even sadder.  I learned the hard way that planning is key – everything from the shopping list to the cooking schedule. Now, I meticulously plan my meals for the week,  picking recipes that I actually *enjoy* and can realistically make in a reasonable amount of time.\n> \n> \n> I've also experimented with different storage solutions. These glass containers are my new favorite – they’re microwave-safe, easy to clean, and keep my food looking fresh.  No more sad, soggy leftovers for me!\n> \n> \n> This journey hasn’t been about deprivation; it’s been about creating healthy, delicious meals that fit into my life. This teriyaki chicken and veggie bowl is proof that healthy eating can be both convenient and incredibly tasty. So, what are you waiting for? Start your own meal prep journey today!  You might surprise yourself with how much you enjoy it (and how much better you feel!).\n"
          },
          "metadata": {},
          "execution_count": 35
        }
      ]
    },
    {
      "cell_type": "code",
      "source": [
        "response = model.generate_content([\"Generate an accurate caption for this image.\", img])\n",
        "print(response.text)"
      ],
      "metadata": {
        "colab": {
          "base_uri": "https://localhost:8080/",
          "height": 312
        },
        "id": "vdSz5eNkAurt",
        "outputId": "970e7114-b6db-48e5-d226-4060464572d4"
      },
      "execution_count": 37,
      "outputs": [
        {
          "output_type": "stream",
          "name": "stdout",
          "text": [
            "Here's a caption for the image:\n",
            "\n",
            "**Option 1 (Concise):**\n",
            "\n",
            "> Healthy and delicious meal prep!  Chicken and broccoli with rice.\n",
            "\n",
            "**Option 2 (More descriptive):**\n",
            "\n",
            "> Two containers of perfectly portioned meals, featuring teriyaki chicken, steamed rice, broccoli, and carrots.  Perfect for lunch or dinner on the go!\n",
            "\n",
            "**Option 3 (Focus on healthy eating):**\n",
            "\n",
            "> Fueling my body with wholesome goodness!  This chicken and veggie bowl is packed with protein and nutrients.  #mealprep #healthyeating #cleaneating\n",
            "\n",
            "\n",
            "Choose the option that best suits your intended audience and platform.\n",
            "\n"
          ]
        }
      ]
    },
    {
      "cell_type": "code",
      "source": [
        "from PIL import Image\n",
        "# Open an image\n",
        "image_path = \"girl.jpg\"\n",
        "image = Image.open(image_path)\n",
        "# Generate a description of the image\n",
        "response = model.generate_content([\"Describe this image in detail.\", image])\n",
        "print(response.text)"
      ],
      "metadata": {
        "colab": {
          "base_uri": "https://localhost:8080/",
          "height": 295
        },
        "id": "tiH4iHi3CJdA",
        "outputId": "fe2eaea6-476a-4997-c133-3e8d7f7a5544"
      },
      "execution_count": 39,
      "outputs": [
        {
          "output_type": "stream",
          "name": "stdout",
          "text": [
            "Here's a description of the image:\n",
            "\n",
            "Close-up view of a woman with shoulder-length, curly dark brown hair. \n",
            "\n",
            "\n",
            "She's wearing a teal or turquoise three-quarter sleeve top with a small, repeated gold pattern. The top has a buttoned neckline. \n",
            "\n",
            "\n",
            "The woman is smiling and gesturing with her right index finger, pointing to her left, as if indicating something off-camera. Her arms are slightly crossed. \n",
            "\n",
            "\n",
            "The background is a plain, off-white or light gray, providing a stark contrast to her clothing and features. The lighting is even and soft, avoiding harsh shadows on her face. \n",
            "\n",
            "\n",
            "The overall impression is a friendly, approachable, and possibly promotional image; perhaps from a website or advertisement. The woman appears to be of South Asian descent.\n",
            "\n"
          ]
        }
      ]
    },
    {
      "cell_type": "code",
      "source": [
        "response = model.generate_content([\"What emotions can you detect in this image?\", image])\n",
        "print(response.text)"
      ],
      "metadata": {
        "colab": {
          "base_uri": "https://localhost:8080/",
          "height": 156
        },
        "id": "Kuvj1poAE4nJ",
        "outputId": "4421d83a-8137-463e-ba78-978c1bca0a62"
      },
      "execution_count": 40,
      "outputs": [
        {
          "output_type": "stream",
          "name": "stdout",
          "text": [
            "The woman in the image appears to be expressing a combination of emotions:\n",
            "\n",
            "* **Happiness/Pleasantness:** Her smile is genuine and warm, suggesting a positive emotional state.\n",
            "* **Helpfulness/Informativeness:** Her pointing gesture indicates she's offering information or guidance.  She seems approachable and ready to assist.\n",
            "* **Confidence:** Her posture and direct gaze suggest self-assurance.\n",
            "\n",
            "There is no evidence of negative emotions in this image.  The overall feeling is one of friendly and helpful engagement.\n",
            "\n"
          ]
        }
      ]
    },
    {
      "cell_type": "code",
      "source": [],
      "metadata": {
        "id": "XQSlHjoWFvO4"
      },
      "execution_count": null,
      "outputs": []
    }
  ]
}