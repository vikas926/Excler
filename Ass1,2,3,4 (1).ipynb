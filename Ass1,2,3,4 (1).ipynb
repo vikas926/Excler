{
 "cells": [
  {
   "cell_type": "code",
   "execution_count": 1,
   "id": "84312e2a-6e55-4ca0-a939-9864122419cf",
   "metadata": {},
   "outputs": [
    {
     "name": "stdout",
     "output_type": "stream",
     "text": [
      "Integer Value: 10 | Type: <class 'int'>\n",
      "Float Value: 3.14 | Type: <class 'float'>\n",
      "String Value: Hello | Type: <class 'str'>\n",
      "Boolean Value: True | Type: <class 'bool'>\n"
     ]
    }
   ],
   "source": [
    "#1.Write a program in Jupyter Notebook to declare variables of different data types (integer, float, string, and boolean). Print each variable and its type.\n",
    "integer_var = 10       \n",
    "float_var = 3.14       \n",
    "string_var = \"Hello\"   \n",
    "boolean_var = True     \n",
    "\n",
    "print(\"Integer Value:\", integer_var, \"| Type:\", type(integer_var))\n",
    "print(\"Float Value:\", float_var, \"| Type:\", type(float_var))\n",
    "print(\"String Value:\", string_var, \"| Type:\", type(string_var))\n",
    "print(\"Boolean Value:\", boolean_var, \"| Type:\", type(boolean_var))\n"
   ]
  },
  {
   "cell_type": "code",
   "execution_count": 5,
   "id": "5173f19d-9315-4607-a068-87b40f850c5b",
   "metadata": {},
   "outputs": [
    {
     "name": "stdout",
     "output_type": "stream",
     "text": [
      "List:\n",
      "10\n",
      "30\n",
      "50\n",
      "[20, 30, 40]\n",
      "\n",
      "Tuple:\n",
      "banana\n",
      "date\n",
      "date\n",
      "\n",
      "Dictionary:\n",
      "Alice\n",
      "New York\n",
      "painting\n"
     ]
    }
   ],
   "source": [
    "#2.Create a List, tuple and Dictionary with 5 elements in it and how to access few elements based on the index. Try  with different examples \n",
    "my_list = [10, 20, 30, 40, 50]\n",
    "print(\"List:\")\n",
    "print(my_list[0])\n",
    "print(my_list[2])\n",
    "print(my_list[-1])\n",
    "print(my_list[1:4])\n",
    "\n",
    "print(\"\\nTuple:\")\n",
    "my_tuple = ('apple', 'banana', 'cherry', 'date', 'elderberry')\n",
    "print(my_tuple[1])\n",
    "print(my_tuple[3])\n",
    "print(my_tuple[-2])\n",
    "\n",
    "print(\"\\nDictionary:\")\n",
    "my_dict = {\n",
    "    'name': 'Alice',\n",
    "    'age': 25,\n",
    "    'city': 'New York',\n",
    "    'country': 'USA',\n",
    "    'hobby': 'painting'\n",
    "}\n",
    "print(my_dict['name'])\n",
    "print(my_dict['city'])\n",
    "print(my_dict['hobby'])\n",
    "\n",
    "    \n",
    "   \n",
    "  "
   ]
  },
  {
   "cell_type": "code",
   "execution_count": 8,
   "id": "30aef165-5544-4a3b-abb6-8694fadfe54f",
   "metadata": {},
   "outputs": [
    {
     "name": "stdin",
     "output_type": "stream",
     "text": [
      "Enter marks for Subject 1:  50\n",
      "Enter marks for Subject 2:  60\n",
      "Enter marks for Subject 3:  70\n"
     ]
    },
    {
     "name": "stdout",
     "output_type": "stream",
     "text": [
      "Grade: Fail\n"
     ]
    }
   ],
   "source": [
    "#3.#3.Write a Python program that takes a student's marks in three subjects as input.\n",
    "If the average is greater than or equal to 90, print\"Grade: A\".\n",
    "If the average is between 80 and 89, print \"Grade: B\".\n",
    "If the average is between 70 and 79, print \"Grade: C\".\n",
    "Otherwise, print \"Grade: Fail\".\n",
    "#CODE\n",
    "subject1 = float(input(\"Enter marks for Subject 1: \"))\n",
    "subject2 = float(input(\"Enter marks for Subject 2: \"))\n",
    "subject3 = float(input(\"Enter marks for Subject 3: \"))\n",
    "average = (subject1 + subject2 + subject3) / 3\n",
    "\n",
    "if average >= 90:\n",
    "    print(\"Grade: A\")\n",
    "elif 80 <= average < 90:\n",
    "    print(\"Grade: B\")\n",
    "elif 70 <= average < 80:\n",
    "    print(\"Grade: C\")\n",
    "else:\n",
    "    print(\"Grade: Fail\")\n"
   ]
  },
  {
   "cell_type": "code",
   "execution_count": 9,
   "id": "c0273089-4efa-4ec4-b723-dc44a4017bf5",
   "metadata": {},
   "outputs": [
    {
     "name": "stdin",
     "output_type": "stream",
     "text": [
      "Enter a positive integer:  7\n"
     ]
    },
    {
     "name": "stdout",
     "output_type": "stream",
     "text": [
      "The sum of all even numbers between 1 and 7 is: 12\n"
     ]
    }
   ],
   "source": [
    "#4.Write a Python program to calculate the sum of all even numbers between 1 and a given positive integer n\n",
    "def sum_of_even_numbers(n):\n",
    "    if n < 1:\n",
    "        return 0\n",
    "    even_sum = sum(i for i in range(2, n + 1, 2))\n",
    "    return even_sum\n",
    "try:\n",
    "    n = int(input(\"Enter a positive integer: \"))\n",
    "    if n <= 0:\n",
    "        print(\"Please enter a positive integer greater than 0.\")\n",
    "    else:\n",
    "        result = sum_of_even_numbers(n)\n",
    "        print(f\"The sum of all even numbers between 1 and {n} is: {result}\")\n",
    "except ValueError:\n",
    "    print(\"Invalid input. Please enter a positive integer.\")"
   ]
  },
  {
   "cell_type": "code",
   "execution_count": null,
   "id": "8f137c06-4fb2-45dc-bf3b-414487a1def3",
   "metadata": {},
   "outputs": [],
   "source": []
  }
 ],
 "metadata": {
  "kernelspec": {
   "display_name": "Python 3 (ipykernel)",
   "language": "python",
   "name": "python3"
  },
  "language_info": {
   "codemirror_mode": {
    "name": "ipython",
    "version": 3
   },
   "file_extension": ".py",
   "mimetype": "text/x-python",
   "name": "python",
   "nbconvert_exporter": "python",
   "pygments_lexer": "ipython3",
   "version": "3.12.7"
  }
 },
 "nbformat": 4,
 "nbformat_minor": 5
}
