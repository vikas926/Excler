{
 "cells": [
  {
   "cell_type": "code",
   "execution_count": 1,
   "id": "aad4bc1d",
   "metadata": {
    "scrolled": true
   },
   "outputs": [
    {
     "name": "stderr",
     "output_type": "stream",
     "text": [
      "[nltk_data] Downloading package punkt to\n",
      "[nltk_data]     C:\\Users\\Shivani\\AppData\\Roaming\\nltk_data...\n",
      "[nltk_data]   Package punkt is already up-to-date!\n"
     ]
    },
    {
     "name": "stdout",
     "output_type": "stream",
     "text": [
      "Enter a text: hello how are you\n",
      "hello: 1\n",
      "how: 1\n",
      "are: 1\n",
      "you: 1\n",
      "Extracted emails: []\n",
      "Tokenized words: ['hello', 'how', 'are', 'you']\n",
      "Tokenized sentences: ['hello how are you']\n"
     ]
    }
   ],
   "source": [
    "###DAY-9\n",
    "import re\n",
    "from collections import Counter\n",
    "import nltk\n",
    "from nltk.tokenize import word_tokenize, sent_tokenize\n",
    "\n",
    "# Ensure necessary NLTK resources are available\n",
    "nltk.download('punkt')\n",
    "\n",
    "def word_frequency(text):\n",
    "    # Convert text to lowercase and split into words\n",
    "    words = text.lower().split()\n",
    "    \n",
    "    # Count frequency of each word\n",
    "    word_counts = Counter(words)\n",
    "    \n",
    "    # Print words and their frequencies\n",
    "    for word, count in word_counts.items():\n",
    "        print(f\"{word}: {count}\")\n",
    "\n",
    "def extract_emails(text):\n",
    "    # Regular expression pattern for email addresses\n",
    "    email_pattern = r'\\b[A-Za-z0-9._%+-]+@[A-Za-z0-9.-]+\\.[A-Z|a-z]{2,}\\b'\n",
    "    return re.findall(email_pattern, text)\n",
    "\n",
    "def tokenize_text(text):\n",
    "    words = word_tokenize(text)\n",
    "    sentences = sent_tokenize(text)\n",
    "    return words, sentences\n",
    "\n",
    "# Example usage\n",
    "if __name__ == \"__main__\":\n",
    "    text = input(\"Enter a text: \")\n",
    "    word_frequency(text)\n",
    "    emails = extract_emails(text)\n",
    "    print(\"Extracted emails:\", emails)\n",
    "    words, sentences = tokenize_text(text)\n",
    "    print(\"Tokenized words:\", words)\n",
    "    print(\"Tokenized sentences:\", sentences)\n"
   ]
  },
  {
   "cell_type": "markdown",
   "id": "35f62057",
   "metadata": {},
   "source": [
    "##DAY8"
   ]
  },
  {
   "cell_type": "code",
   "execution_count": null,
   "id": "8fbe7a1a",
   "metadata": {},
   "outputs": [],
   "source": [
    "\n",
    "import re\n",
    "import requests\n",
    "from bs4 import BeautifulSoup\n",
    "from collections import Counter\n",
    "import nltk\n",
    "from nltk.tokenize import word_tokenize, sent_tokenize\n",
    "\n",
    "# Ensure necessary NLTK resources are available\n",
    "nltk.download('punkt')\n",
    "\n",
    "def word_frequency(text):\n",
    "    # Convert text to lowercase and split into words\n",
    "    words = text.lower().split()\n",
    "    \n",
    "    # Count frequency of each word\n",
    "    word_counts = Counter(words)\n",
    "    \n",
    "    # Print words and their frequencies\n",
    "    for word, count in word_counts.items():\n",
    "        print(f\"{word}: {count}\")\n",
    "\n",
    "def extract_emails(text):\n",
    "    # Regular expression pattern for email addresses\n",
    "    email_pattern = r'\\b[A-Za-z0-9._%+-]+@[A-Za-z0-9.-]+\\.[A-Z|a-z]{2,}\\b'\n",
    "    return re.findall(email_pattern, text)\n",
    "\n",
    "def tokenize_text(text):\n",
    "    words = word_tokenize(text)\n",
    "    sentences = sent_tokenize(text)\n",
    "    return words, sentences\n",
    "\n",
    "def fetch_webpage_title(url):\n",
    "    response = requests.get(url)\n",
    "    soup = BeautifulSoup(response.text, 'html.parser')\n",
    "    return soup.title.string if soup.title else \"No title found\"\n",
    "\n",
    "def clean_text(text):\n",
    "    # Remove special characters and convert to lowercase\n",
    "    cleaned_text = re.sub(r'[^A-Za-z0-9 ]+', '', text).lower()\n",
    "    return cleaned_text\n",
    "\n",
    "# Example usage\n",
    "if __name__ == \"__main__\":\n",
    "    text = input(\"Enter a text: \")\n",
    "    print(\"Cleaned text:\", clean_text(text))\n",
    "    word_frequency(text)\n",
    "    emails = extract_emails(text)\n",
    "    print(\"Extracted emails:\", emails)\n",
    "    words, sentences = tokenize_text(text)\n",
    "    print(\"Tokenized words:\", words)\n",
    "    print(\"Tokenized sentences:\", sentences)\n",
    "    \n",
    "    url = \"https://example.com\"\n",
    "    print(\"Webpage title:\", fetch_webpage_title(url))\n"
   ]
  },
  {
   "cell_type": "markdown",
   "id": "ee464d72",
   "metadata": {},
   "source": [
    "##DAY10"
   ]
  },
  {
   "cell_type": "code",
   "execution_count": 3,
   "id": "684fe214",
   "metadata": {},
   "outputs": [
    {
     "name": "stdout",
     "output_type": "stream",
     "text": [
      "Enter a text: helloo what are you doing\n",
      "helloo: 1\n",
      "what: 1\n",
      "are: 1\n",
      "you: 1\n",
      "doing: 1\n",
      "Extracted emails: []\n"
     ]
    }
   ],
   "source": [
    "import re\n",
    "from collections import Counter\n",
    "\n",
    "def word_frequency(text):\n",
    "    # Convert text to lowercase and split into words\n",
    "    words = text.lower().split()\n",
    "    \n",
    "    # Count frequency of each word\n",
    "    word_counts = Counter(words)\n",
    "    \n",
    "    # Print words and their frequencies\n",
    "    for word, count in word_counts.items():\n",
    "        print(f\"{word}: {count}\")\n",
    "\n",
    "def extract_emails(text):\n",
    "    # Regular expression pattern for email addresses\n",
    "    email_pattern = r'\\b[A-Za-z0-9._%+-]+@[A-Za-z0-9.-]+\\.[A-Z|a-z]{2,}\\b'\n",
    "    return re.findall(email_pattern, text)\n",
    "\n",
    "# Example usage\n",
    "if __name__ == \"__main__\":\n",
    "    text = input(\"Enter a text: \")\n",
    "    word_frequency(text)\n",
    "    emails = extract_emails(text)\n",
    "    print(\"Extracted emails:\", emails)"
   ]
  },
  {
   "cell_type": "markdown",
   "id": "e0fef8e6",
   "metadata": {},
   "source": [
    "##DAY-11"
   ]
  },
  {
   "cell_type": "code",
   "execution_count": 2,
   "id": "48150aca",
   "metadata": {},
   "outputs": [
    {
     "name": "stderr",
     "output_type": "stream",
     "text": [
      "[nltk_data] Downloading package punkt to\n",
      "[nltk_data]     C:\\Users\\Shivani\\AppData\\Roaming\\nltk_data...\n",
      "[nltk_data]   Package punkt is already up-to-date!\n"
     ]
    },
    {
     "name": "stdout",
     "output_type": "stream",
     "text": [
      "Enter a text: hello did you ate\n",
      "hello: 1\n",
      "did: 1\n",
      "you: 1\n",
      "ate: 1\n",
      "Extracted emails: []\n",
      "Tokenized words: ['hello', 'did', 'you', 'ate']\n",
      "Tokenized sentences: ['hello did you ate']\n",
      "Webpage title: Example Domain\n"
     ]
    }
   ],
   "source": [
    "import re\n",
    "import requests\n",
    "from bs4 import BeautifulSoup\n",
    "from collections import Counter\n",
    "import nltk\n",
    "from nltk.tokenize import word_tokenize, sent_tokenize\n",
    "\n",
    "# Ensure necessary NLTK resources are available\n",
    "nltk.download('punkt')\n",
    "\n",
    "def word_frequency(text):\n",
    "    # Convert text to lowercase and split into words\n",
    "    words = text.lower().split()\n",
    "    \n",
    "    # Count frequency of each word\n",
    "    word_counts = Counter(words)\n",
    "    \n",
    "    # Print words and their frequencies\n",
    "    for word, count in word_counts.items():\n",
    "        print(f\"{word}: {count}\")\n",
    "\n",
    "def extract_emails(text):\n",
    "    # Regular expression pattern for email addresses\n",
    "    email_pattern = r'\\b[A-Za-z0-9._%+-]+@[A-Za-z0-9.-]+\\.[A-Z|a-z]{2,}\\b'\n",
    "    return re.findall(email_pattern, text)\n",
    "\n",
    "def tokenize_text(text):\n",
    "    words = word_tokenize(text)\n",
    "    sentences = sent_tokenize(text)\n",
    "    return words, sentences\n",
    "\n",
    "def fetch_webpage_title(url):\n",
    "    response = requests.get(url)\n",
    "    soup = BeautifulSoup(response.text, 'html.parser')\n",
    "    return soup.title.string if soup.title else \"No title found\"\n",
    "\n",
    "# Example usage\n",
    "if __name__ == \"__main__\":\n",
    "    text = input(\"Enter a text: \")\n",
    "    word_frequency(text)\n",
    "    emails = extract_emails(text)\n",
    "    print(\"Extracted emails:\", emails)\n",
    "    words, sentences = tokenize_text(text)\n",
    "    print(\"Tokenized words:\", words)\n",
    "    print(\"Tokenized sentences:\", sentences)\n",
    "    \n",
    "    url = \"https://example.com\"\n",
    "    print(\"Webpage title:\", fetch_webpage_title(url))"
   ]
  },
  {
   "cell_type": "code",
   "execution_count": null,
   "id": "4d8732ec",
   "metadata": {},
   "outputs": [],
   "source": []
  }
 ],
 "metadata": {
  "kernelspec": {
   "display_name": "Python 3 (ipykernel)",
   "language": "python",
   "name": "python3"
  },
  "language_info": {
   "codemirror_mode": {
    "name": "ipython",
    "version": 3
   },
   "file_extension": ".py",
   "mimetype": "text/x-python",
   "name": "python",
   "nbconvert_exporter": "python",
   "pygments_lexer": "ipython3",
   "version": "3.11.5"
  }
 },
 "nbformat": 4,
 "nbformat_minor": 5
}
