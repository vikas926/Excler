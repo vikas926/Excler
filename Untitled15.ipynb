{
  "cells": [
    {
      "cell_type": "markdown",
      "metadata": {
        "id": "view-in-github",
        "colab_type": "text"
      },
      "source": [
        "<a href=\"https://colab.research.google.com/github/vikas926/Excler/blob/main/Untitled15.ipynb\" target=\"_parent\"><img src=\"https://colab.research.google.com/assets/colab-badge.svg\" alt=\"Open In Colab\"/></a>"
      ]
    },
    {
      "cell_type": "code",
      "execution_count": 8,
      "metadata": {
        "colab": {
          "base_uri": "https://localhost:8080/"
        },
        "id": "EKf3VhI8qIma",
        "outputId": "ad6ea7dd-a5c5-4caf-a664-3c3037117c7c"
      },
      "outputs": [
        {
          "output_type": "stream",
          "name": "stdout",
          "text": [
            "Collecting youtube-transcript-api\n",
            "  Downloading youtube_transcript_api-1.0.1-py3-none-any.whl.metadata (22 kB)\n",
            "Collecting pytube\n",
            "  Downloading pytube-15.0.0-py3-none-any.whl.metadata (5.0 kB)\n",
            "Requirement already satisfied: defusedxml<0.8.0,>=0.7.1 in /usr/local/lib/python3.11/dist-packages (from youtube-transcript-api) (0.7.1)\n",
            "Requirement already satisfied: requests in /usr/local/lib/python3.11/dist-packages (from youtube-transcript-api) (2.32.3)\n",
            "Requirement already satisfied: charset-normalizer<4,>=2 in /usr/local/lib/python3.11/dist-packages (from requests->youtube-transcript-api) (3.4.1)\n",
            "Requirement already satisfied: idna<4,>=2.5 in /usr/local/lib/python3.11/dist-packages (from requests->youtube-transcript-api) (3.10)\n",
            "Requirement already satisfied: urllib3<3,>=1.21.1 in /usr/local/lib/python3.11/dist-packages (from requests->youtube-transcript-api) (2.3.0)\n",
            "Requirement already satisfied: certifi>=2017.4.17 in /usr/local/lib/python3.11/dist-packages (from requests->youtube-transcript-api) (2025.1.31)\n",
            "Downloading youtube_transcript_api-1.0.1-py3-none-any.whl (1.9 MB)\n",
            "\u001b[?25l   \u001b[90m━━━━━━━━━━━━━━━━━━━━━━━━━━━━━━━━━━━━━━━━\u001b[0m \u001b[32m0.0/1.9 MB\u001b[0m \u001b[31m?\u001b[0m eta \u001b[36m-:--:--\u001b[0m\r\u001b[2K   \u001b[90m━━━━━━━━━━━━━━━━━━━━━━━━━━━━━━━━━━━━━━━━\u001b[0m \u001b[32m1.9/1.9 MB\u001b[0m \u001b[31m59.8 MB/s\u001b[0m eta \u001b[36m0:00:00\u001b[0m\n",
            "\u001b[?25hDownloading pytube-15.0.0-py3-none-any.whl (57 kB)\n",
            "\u001b[?25l   \u001b[90m━━━━━━━━━━━━━━━━━━━━━━━━━━━━━━━━━━━━━━━━\u001b[0m \u001b[32m0.0/57.6 kB\u001b[0m \u001b[31m?\u001b[0m eta \u001b[36m-:--:--\u001b[0m\r\u001b[2K   \u001b[90m━━━━━━━━━━━━━━━━━━━━━━━━━━━━━━━━━━━━━━━━\u001b[0m \u001b[32m57.6/57.6 kB\u001b[0m \u001b[31m4.6 MB/s\u001b[0m eta \u001b[36m0:00:00\u001b[0m\n",
            "\u001b[?25hInstalling collected packages: pytube, youtube-transcript-api\n",
            "Successfully installed pytube-15.0.0 youtube-transcript-api-1.0.1\n"
          ]
        }
      ],
      "source": [
        "!pip install youtube-transcript-api pytube"
      ]
    },
    {
      "cell_type": "code",
      "execution_count": 9,
      "metadata": {
        "id": "ePpMenXXqzvf",
        "colab": {
          "base_uri": "https://localhost:8080/"
        },
        "outputId": "894d406d-922e-4e4f-ae64-4382dfe77896"
      },
      "outputs": [
        {
          "output_type": "stream",
          "name": "stdout",
          "text": [
            "Transcript:\n",
            " hi guys today I'm going to introduce you what is machine learning uh these are my presentation content what is machine learning what are the different applications of machine learning different types of machine learning and how to build a machine learning system or model then various kinds of algorithms and later on in this series we are going to take a Hands-On you know case studies or doing programming for various kinds of up algorithms so what is machine learning so machine learning is nothin\n"
          ]
        }
      ],
      "source": [
        "from youtube_transcript_api import YouTubeTranscriptApi\n",
        "def get_youtube_transcript(video_url):\n",
        "    \"\"\"Fetches the transcript of a YouTube video.\"\"\"\n",
        "    video_id = video_url.split(\"v=\")[1].split(\"&\")[0]  # Extract video ID\n",
        "    transcript = YouTubeTranscriptApi.get_transcript(video_id)\n",
        "    full_text = \" \".join([t[\"text\"] for t in transcript])\n",
        "    return full_text\n",
        "# Example Usage\n",
        "video_url = \"https://www.youtube.com/watch?v=unYDoA8QGH0&list=PLWEpztHwA4ZT2QlHC74oIz4MsawcvE-QX\"\n",
        "video_transcript = get_youtube_transcript(video_url)\n",
        "print(\"Transcript:\\n\", video_transcript[:500])  # Show first 500 characters"
      ]
    },
    {
      "cell_type": "code",
      "source": [
        "pip install PyPDF2"
      ],
      "metadata": {
        "id": "J5BD3Klm3XFF",
        "colab": {
          "base_uri": "https://localhost:8080/"
        },
        "outputId": "cd5f59d3-fa56-46c1-87a2-b0e09dda5fd3"
      },
      "execution_count": 10,
      "outputs": [
        {
          "output_type": "stream",
          "name": "stdout",
          "text": [
            "Requirement already satisfied: PyPDF2 in /usr/local/lib/python3.11/dist-packages (3.0.1)\n"
          ]
        }
      ]
    },
    {
      "cell_type": "code",
      "source": [
        "# Configure Gemini API\n",
        "import google.generativeai as genai\n",
        "from google.colab import userdata\n",
        "GOOGLE_API_KEY=userdata.get('GOOGLE_API_KEY')\n",
        "genai.configure(api_key=GOOGLE_API_KEY)"
      ],
      "metadata": {
        "id": "ZkG0OAxTg6GY"
      },
      "execution_count": 11,
      "outputs": []
    },
    {
      "cell_type": "code",
      "source": [
        "import PyPDF2\n",
        "def extract_text_from_pdf(pdf_path):\n",
        "  \"\"\"Extracts text from a given health report PDF using  PyPDF2.\"\"\"\n",
        "  text=\"\"\n",
        "  with open(pdf_path, \"rb\") as file:\n",
        "    reader = PyPDF2.PdfReader(file)\n",
        "    for page in reader.pages:\n",
        "      text += page.extract_text() + \"\\n\"\n",
        "  return text"
      ],
      "metadata": {
        "id": "spbqkJV4g76T"
      },
      "execution_count": 12,
      "outputs": []
    },
    {
      "cell_type": "code",
      "source": [
        "def extract_health_insights(text):\n",
        "  \"\"\"Asks Gemini AI extract key medical insights from the report.\"\"\"\n",
        "  model = genai.GenerativeModel(\"gemini-1.5-flash\")\n",
        "  promt = f\"Extract key insights from the following health report:\\n\\n{text}\"\n",
        "  response = model.generate_content(promt)\n",
        "  return response.text\n",
        "\n",
        "pdf_file = \"health_report.pdf\"\n",
        "extracted_text = extract_text_from_pdf(pdf_file)\n",
        "insights = extract_health_insights(extracted_text)\n",
        "print(\"Key Insights:\\n\" , insights)"
      ],
      "metadata": {
        "colab": {
          "base_uri": "https://localhost:8080/",
          "height": 505
        },
        "id": "7AQrt-nIiIXY",
        "outputId": "504dddc8-6fcc-4f7a-86eb-6dfc18b32eb1"
      },
      "execution_count": 13,
      "outputs": [
        {
          "output_type": "stream",
          "name": "stdout",
          "text": [
            "Key Insights:\n",
            " The health report for Mr. Kishan Goud (MR Number: MR2100003157) reveals the following key insights from tests conducted on 01/02/2021:\n",
            "\n",
            "**Infectious Diseases:**\n",
            "\n",
            "* **Negative for Dengue:**  Tests for Dengue NS1 antigen, IgG, and IgM were all negative.\n",
            "* **Negative for Malaria:** Rapid Malaria tests for Plasmodium vivax (P.V) and Plasmodium falciparum (P.F) were both negative.\n",
            "* **Elevated Widal Test Results:**  While not definitively diagnostic on its own, the Widal test shows elevated titers for *Salmonella Typhi* \"O\" (1:160) and \"H\" (1:80), suggesting possible past or present infection.  The titers for *Salmonella Paratyphi* \"AH\" and \"BH\" are within the normal range.  Further investigation may be needed to confirm *Salmonella Typhi* infection.\n",
            "\n",
            "**Hematology:**\n",
            "\n",
            "* **Elevated ESR:** Erythrocyte Sedimentation Rate (ESR) is elevated (26 mm/hr in the first hour and 52 mm/hr in the second hour), indicating inflammation or infection. This corroborates the possibility suggested by the Widal test results.\n",
            "* **Complete Blood Count (CBC) mostly within normal limits:** Hemoglobin, RBC, WBC, platelet count, and PCV are within or near the reference ranges. Differential count shows normal ranges for neutrophils, lymphocytes, eosinophils, monocytes, and basophils.\n",
            "\n",
            "**Blood Chemistry:**\n",
            "\n",
            "* **Normal Blood Glucose:** Random blood glucose is within the normal range.\n",
            "* **Normal HbA1c:** HbA1c level is 5.4%, indicating good glycemic control.\n",
            "* **Normal Liver Function Tests (LFTs):**  All LFTs (bilirubin, alkaline phosphatase, SGOT, SGPT, total protein, albumin, globulin, A/G ratio) are within normal ranges.\n",
            "* **Normal Creatinine:** Serum creatinine is within the normal range, indicating normal kidney function.\n",
            "* **Slightly low Serum Sodium:** Serum sodium is slightly below the lower limit of the reference range (122 mmol/l vs 135-146 mmol/l).  This warrants monitoring.  Potassium and chloride are within normal limits.\n",
            "\n",
            "\n",
            "**Overall:**\n",
            "\n",
            "The report shows elevated ESR and suggestive (but not conclusive) evidence of past or present *Salmonella Typhi* infection.  Further investigation might be necessary to confirm the *Salmonella* infection.  The slightly low sodium level should also be monitored.  Otherwise, most other test results are within normal ranges.  The combination of findings suggests the possibility of an infection with accompanying inflammatory response, but more information is needed for a conclusive diagnosis.\n",
            "\n"
          ]
        }
      ]
    },
    {
      "cell_type": "code",
      "source": [
        "def summarize_health_report(text):\n",
        "  \"\"\"Summarizes the health report using Gemini AI.\"\"\"\n",
        "  model = genai.GenerativeModel(\"gemini-1.5-flash\")\n",
        "  promt = f\"Summarize the following health report in a consine manner:\\n\\n{text}\"\n",
        "  response = model.generate_content(promt)\n",
        "  return response.text\n",
        "\n",
        "summary = summarize_health_report(extracted_text)\n",
        "print(\"Summary:\\n\", summary)"
      ],
      "metadata": {
        "colab": {
          "base_uri": "https://localhost:8080/",
          "height": 89
        },
        "id": "hnZjCK6xkowb",
        "outputId": "2069ffb0-34f7-4a76-8097-4bb117b4bb84"
      },
      "execution_count": 16,
      "outputs": [
        {
          "output_type": "stream",
          "name": "stdout",
          "text": [
            "Summary:\n",
            " Mr. Kishan Goud's (MR2100003157) lab results from 01/02/2021 show:  Widal test results suggestive of prior exposure to *Salmonella Typhi* (elevated titers for \"O\" and \"H\" antigens), but negative for *Salmonella Paratyphi* A and B.  Dengue serology (NS1, IgG, IgM) was negative.  ESR was elevated (26 mm/hr, 1st hour; 52 mm/hr, 2nd hour).  Malaria rapid test was negative.  Complete blood count showed normal hemoglobin, RBC, WBC, and platelet counts; differential counts were within normal limits.  HbA1c was 5.4% (within the normal non-diabetic range).  Serum creatinine was 0.8 mg/dl (within normal range).  Random blood glucose was unreported.  Liver function tests were within normal limits except for slightly low serum sodium (122 mmol/L).  All other electrolytes were within normal limits.\n",
            "\n"
          ]
        }
      ]
    },
    {
      "cell_type": "code",
      "source": [
        "def detect_abnormalities(text):\n",
        "  \"\"\"Analyzes lab test results and flags abnormal values.\"\"\"\n",
        "  model = genai.GenerativeModel(\"gemini-1.5-flash\")\n",
        "  promt = f\"Analyze the lab test results in the following health report and highlight any abnormal values:\\n\\n{text}\"\n",
        "  response = model.generate_content(promt)\n",
        "  return response.text\n",
        "\n",
        "abnormalities = detect_abnormalities(extracted_text)\n",
        "print(\"Potential Abnormalities:\\n\" , abnormalities)"
      ],
      "metadata": {
        "colab": {
          "base_uri": "https://localhost:8080/",
          "height": 349
        },
        "id": "2GV86nX-mdy_",
        "outputId": "15571fdb-3e08-4004-dcac-0d7109ebd757"
      },
      "execution_count": 17,
      "outputs": [
        {
          "output_type": "stream",
          "name": "stdout",
          "text": [
            "Potential Abnormalities:\n",
            " Based on the provided lab results, the following values fall outside the given biological reference ranges and are considered abnormal:\n",
            "\n",
            "* **Widal Test:**  S. Typhi \"O\" (1:160) and S. Typhi \"H\" (1:80) are both significantly higher than the reference range of 1:20. This suggests a possible past or current infection with *Salmonella Typhi*.  The higher titer for \"O\" antigen is usually indicative of a more recent infection.\n",
            "\n",
            "* **ESR (Erythrocyte Sedimentation Rate):**  Both the 1st hour (26 mm/hr) and 2nd hour (52 mm/hr) values are significantly elevated above the reference range of 0-8 mm/hr for the first hour.  This indicates inflammation in the body.\n",
            "\n",
            "* **Serum Sodium:** The serum sodium level (122 mmol/l) is below the reference range of 135-146 mmol/l. This is considered hyponatremia (low sodium) and can have various causes.\n",
            "\n",
            "* **Serum Chloride:** The serum chloride level (97 mmol/l) is slightly below the reference range of 98-107 mmol/l.  While this is a minor deviation, it should be considered in context with the hyponatremia.\n",
            "\n",
            "**Values within or near the reference range but warranting consideration:**\n",
            "\n",
            "* **RBC (Red Blood Cell count):** Slightly below the lower end of the normal range. While not severely low, it could be a contributing factor to other findings.\n",
            "* **Lymphocytes:**  Slightly above the upper limit of the reference range. This could indicate an infection or immune response.  However, it needs to be interpreted in the context of the other results, especially the positive Widal test.\n",
            "\n",
            "**Important Note:** This analysis is based solely on the provided lab results and lacks crucial clinical context.  The interpretation of these abnormal values requires consideration of the patient's symptoms, medical history, and a physician's clinical judgment.  The elevated Widal test and ESR strongly suggest infection, but the low sodium and chloride require further investigation to determine the underlying cause.  A physician must integrate these results with other clinical information to arrive at a diagnosis and appropriate treatment plan.\n",
            "\n"
          ]
        }
      ]
    },
    {
      "cell_type": "code",
      "source": [
        "def explain_medical_terms(text):\n",
        "  \"\"\"Asks Gemini AI to simplify medical terms for patient understanding.\"\"\"\n",
        "  model = genai.GenerativeModel(\"gemini-1.5-flash\")\n",
        "  promt = f\"Explain the medical terms in the following health report in simple language:\\n\\n{text}\"\n",
        "  response = model.generate_content(promt)\n",
        "  return response.text\n",
        "\n",
        "explanation =explain_medical_terms(extracted_text)\n",
        "print(\"Somplified Explanation:\\n\", explanation)"
      ],
      "metadata": {
        "colab": {
          "base_uri": "https://localhost:8080/",
          "height": 905
        },
        "id": "Ip6O1MlPotCG",
        "outputId": "384f9994-a2db-4072-eccf-ca2e730219f7"
      },
      "execution_count": 18,
      "outputs": [
        {
          "output_type": "stream",
          "name": "stdout",
          "text": [
            "Somplified Explanation:\n",
            " This report shows the results of several blood tests performed on Mr. Kishan Goud. Let's break down each section:\n",
            "\n",
            "\n",
            "**1. WIDAL Test:** This test checks for antibodies against *Salmonella Typhi* and *Salmonella Paratyphi*, bacteria that cause typhoid fever and paratyphoid fever.  The numbers (e.g., 1:160) represent the dilution of the sample at which the antibodies were still detectable.  A higher number indicates a stronger positive result. In this case:\n",
            "\n",
            "* **S. Typhi \"O\" 1:160:** Suggests a past or possible current infection with *Salmonella Typhi*.\n",
            "* **S. Typhi \"H\" 1:80:**  Also suggestive of past or possible current *Salmonella Typhi* infection.\n",
            "* **S. Paratyphi \"AH\" 1:20:**  Result within the normal range, suggesting no infection with this specific *Salmonella Paratyphi* type.\n",
            "* **S. Paratyphi \"BH\" 1:20:** Result within the normal range, suggesting no infection with this specific *Salmonella Paratyphi* type.\n",
            "\n",
            "**It's crucial to note that the Widal test isn't always definitive.  Further tests may be needed to confirm a typhoid diagnosis.**\n",
            "\n",
            "\n",
            "**2. Dengue Serology:** This checks for dengue fever.  The results are negative for all three tests (NS1 antigen, IgG, and IgM), indicating no current or recent dengue infection.\n",
            "\n",
            "\n",
            "**3. Erythrocyte Sedimentation Rate (ESR):** This measures how quickly red blood cells settle in a test tube. A high ESR can indicate inflammation or infection in the body. Mr. Goud's ESR is elevated (26 mm/hr in the first hour, 52 mm/hr in the second), suggesting the presence of inflammation.\n",
            "\n",
            "\n",
            "**4. Rapid Malaria Test:** This test screens for malaria parasites in the blood. Both *Plasmodium falciparum* (P.F.) and *Plasmodium vivax* (P.V.) tests are negative, ruling out malaria.\n",
            "\n",
            "\n",
            "**5. Complete Blood Picture (CBP):** This is a comprehensive blood test that includes:\n",
            "\n",
            "* **Hemoglobin (Hb):** Measures the amount of oxygen-carrying protein in the blood.  Mr. Goud's level (13.6 gms%) is within the normal range.\n",
            "* **Red Blood Cells (RBC):** Counts the number of red blood cells.  His count (4.3 mill/cumm) is slightly below the lower end of the normal range, but not significantly concerning.\n",
            "* **White Blood Cells (WBC):** Counts the number of white blood cells (part of the immune system).  His count (7,200 cells/cumm) is within the normal range.\n",
            "* **Platelet Count:** Counts the number of platelets (involved in blood clotting).  His count (2.0 lakhs/cumm) is within the normal range.\n",
            "* **Packed Cell Volume (PCV):** The percentage of red blood cells in the blood. His level (40.5%) is within the normal range.\n",
            "* **Differential Count:** Shows the percentage of different types of white blood cells. All values are within normal limits.\n",
            "* **Peripheral Blood Smear:** A microscopic examination of the blood, which showed normal red blood cells, normal white blood cells, and adequate platelets.\n",
            "\n",
            "\n",
            "**6. HbA1c:** This test measures average blood sugar levels over the past 2-3 months.  Mr. Goud's level (5.4%) falls within the normal range for someone who is not diabetic.\n",
            "\n",
            "\n",
            "**7. Serum Creatinine:** This measures creatinine, a waste product from muscle metabolism.  His level (0.8 mg/dl) is within the normal range, indicating normal kidney function.\n",
            "\n",
            "\n",
            "**8. Random Blood Glucose:** This measures blood sugar at a random time. His level is not provided in the report.\n",
            "\n",
            "\n",
            "**9. Liver Function Test (LFT):** These tests assess liver health.  All results (bilirubin, alkaline phosphatase, SGOT, SGPT, total protein, albumin, globulin, A/G ratio) are within the normal range.\n",
            "\n",
            "\n",
            "**10. Serum Electrolytes:** These tests measure levels of sodium, potassium, and chloride in the blood.  Sodium (122 mmol/l) is slightly low, while potassium and chloride are within normal limits.\n",
            "\n",
            "**In summary:**  Mr. Goud's blood tests show some signs of inflammation (elevated ESR), and possibly past or present *Salmonella Typhi* infection (Widal test).  Other tests are generally within normal limits, ruling out malaria and dengue fever and showing normal liver and kidney function.  However, the slightly low sodium level and the positive, though not definitive, Widal test warrant further investigation by Dr. Krishna Prasad to determine the cause of the inflammation and potential typhoid infection.  This explanation is for informational purposes only and does not constitute medical advice.  He needs to discuss these results with his doctor.\n",
            "\n"
          ]
        }
      ]
    },
    {
      "cell_type": "code",
      "source": [
        "def ask_gemini_about_report(text, question):\n",
        "  \"\"\"Allows users to ask questions about their health report.\"\"\"\n",
        "  model = genai.GenerativeModel(\"gemini-1.5-flash\")\n",
        "  promt = f\"The following is a health report:\\n\\n{text}\\n\\nAnswerthe following question based on the report:\\n{question}\"\n",
        "  response = model.generate_content(promt)\n",
        "  return response.text\n",
        "\n",
        "question = \"What is the patient's diagnosis?\"\n",
        "answer = ask_gemini_about_report(extracted_text,question)\n",
        "print('Answer:\\n', answer)"
      ],
      "metadata": {
        "colab": {
          "base_uri": "https://localhost:8080/",
          "height": 89
        },
        "id": "SqgbJalhqaKk",
        "outputId": "22579b9f-5e19-417b-8767-a7f2e3b832ed"
      },
      "execution_count": 19,
      "outputs": [
        {
          "output_type": "stream",
          "name": "stdout",
          "text": [
            "Answer:\n",
            " The provided lab report does not offer a diagnosis.  It presents a series of test results.  Elevated ESR (erythrocyte sedimentation rate) suggests inflammation, but that's not a diagnosis in itself.  The slightly elevated S. Typhi \"O\" titer (1:160) could indicate past exposure to typhoid fever, but not necessarily current infection.  All other test results are within normal ranges.  Only a physician can interpret these results in the context of the patient's symptoms and medical history to arrive at a diagnosis.\n",
            "\n"
          ]
        }
      ]
    },
    {
      "cell_type": "code",
      "source": [],
      "metadata": {
        "id": "QFk45QW_rrJa"
      },
      "execution_count": null,
      "outputs": []
    }
  ],
  "metadata": {
    "colab": {
      "provenance": [],
      "authorship_tag": "ABX9TyMiW1aAYHgrOrxc3QJGb7jU",
      "include_colab_link": true
    },
    "kernelspec": {
      "display_name": "Python 3",
      "name": "python3"
    },
    "language_info": {
      "name": "python"
    }
  },
  "nbformat": 4,
  "nbformat_minor": 0
}